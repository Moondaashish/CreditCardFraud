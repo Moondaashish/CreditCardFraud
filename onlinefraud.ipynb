{
  "cells": [
    {
      "cell_type": "markdown",
      "metadata": {
        "hidden": true,
        "id": "hYajQSbK0uL-"
      },
      "source": [
        "## 0.1 Imports"
      ]
    },
    {
      "cell_type": "code",
      "execution_count": 1,
      "metadata": {
        "ExecuteTime": {
          "end_time": "2021-01-11T18:47:33.819432Z",
          "start_time": "2021-01-11T18:47:33.805991Z"
        },
        "hidden": true,
        "id": "sEj0nuTm0uL-"
      },
      "outputs": [],
      "source": [
        "import joblib\n",
        "import warnings\n",
        "import inflection\n",
        "import numpy             as np\n",
        "import pandas            as pd\n",
        "import seaborn           as sns\n",
        "from category_encoders import OneHotEncoder\n",
        "import matplotlib.pyplot as plt\n",
        "\n",
        "from scipy   import stats\n",
        "\n",
        "from xgboost  import XGBClassifier\n",
        "\n",
        "from sklearn.svm          import SVC\n",
        "from sklearn.ensemble     import RandomForestClassifier\n",
        "from sklearn.neighbors    import KNeighborsClassifier\n",
        "from sklearn.linear_model import LogisticRegression\n",
        "\n",
        "from sklearn.metrics         import balanced_accuracy_score, precision_score, classification_report\n",
        "from sklearn.metrics         import recall_score, f1_score, make_scorer, roc_auc_score\n",
        "from sklearn.preprocessing   import MinMaxScaler\n",
        "from sklearn.model_selection import train_test_split, StratifiedKFold"
      ]
    },
    {
      "cell_type": "markdown",
      "metadata": {
        "hidden": true,
        "id": "U1GnHjfy0uL_"
      },
      "source": [
        "## 0.2 Helper Functions"
      ]
    },
    {
      "cell_type": "code",
      "execution_count": 2,
      "metadata": {
        "ExecuteTime": {
          "end_time": "2021-01-11T18:47:34.604129Z",
          "start_time": "2021-01-11T18:47:34.599974Z"
        },
        "hidden": true,
        "id": "pJJpPqn20uL_"
      },
      "outputs": [],
      "source": [
        "warnings.filterwarnings('ignore')\n",
        "\n",
        "seed = 42\n",
        "np.random.seed(seed)"
      ]
    },
    {
      "cell_type": "code",
      "execution_count": 3,
      "metadata": {
        "colab": {
          "base_uri": "https://localhost:8080/"
        },
        "id": "WcywLgli1pew",
        "outputId": "016e3b03-1e3e-4370-dc2e-275727a134c7"
      },
      "outputs": [],
      "source": [
        "# from google.colab import drive\n",
        "# drive.mount('/content/drive')"
      ]
    },
    {
      "cell_type": "markdown",
      "metadata": {
        "heading_collapsed": true,
        "id": "-FwwxAnY0uMB"
      },
      "source": [
        "# 1.0 Data Description"
      ]
    },
    {
      "cell_type": "markdown",
      "metadata": {
        "hidden": true,
        "id": "fGinyayM0uMB"
      },
      "source": [
        "## 1.1 Loading Data"
      ]
    },
    {
      "cell_type": "code",
      "execution_count": 3,
      "metadata": {
        "ExecuteTime": {
          "end_time": "2021-01-11T18:47:37.450936Z",
          "start_time": "2021-01-11T18:47:36.044298Z"
        },
        "hidden": true,
        "id": "gZopuE3w0uMC"
      },
      "outputs": [],
      "source": [
        "df1 = pd.read_csv('PS_20174392719_1491204439457_log.csv')"
      ]
    },
    {
      "cell_type": "code",
      "execution_count": 4,
      "metadata": {
        "ExecuteTime": {
          "end_time": "2021-01-11T18:47:37.474072Z",
          "start_time": "2021-01-11T18:47:37.453989Z"
        },
        "colab": {
          "base_uri": "https://localhost:8080/",
          "height": 206
        },
        "hidden": true,
        "id": "NpCxnOA00uMC",
        "outputId": "76ab2ab9-0e74-4339-e7b6-9162606d6209"
      },
      "outputs": [
        {
          "data": {
            "text/html": [
              "<div>\n",
              "<style scoped>\n",
              "    .dataframe tbody tr th:only-of-type {\n",
              "        vertical-align: middle;\n",
              "    }\n",
              "\n",
              "    .dataframe tbody tr th {\n",
              "        vertical-align: top;\n",
              "    }\n",
              "\n",
              "    .dataframe thead th {\n",
              "        text-align: right;\n",
              "    }\n",
              "</style>\n",
              "<table border=\"1\" class=\"dataframe\">\n",
              "  <thead>\n",
              "    <tr style=\"text-align: right;\">\n",
              "      <th></th>\n",
              "      <th>step</th>\n",
              "      <th>type</th>\n",
              "      <th>amount</th>\n",
              "      <th>nameOrig</th>\n",
              "      <th>oldbalanceOrg</th>\n",
              "      <th>newbalanceOrig</th>\n",
              "      <th>nameDest</th>\n",
              "      <th>oldbalanceDest</th>\n",
              "      <th>newbalanceDest</th>\n",
              "      <th>isFraud</th>\n",
              "      <th>isFlaggedFraud</th>\n",
              "    </tr>\n",
              "  </thead>\n",
              "  <tbody>\n",
              "    <tr>\n",
              "      <th>0</th>\n",
              "      <td>1</td>\n",
              "      <td>PAYMENT</td>\n",
              "      <td>9839.64</td>\n",
              "      <td>C1231006815</td>\n",
              "      <td>170136.0</td>\n",
              "      <td>160296.36</td>\n",
              "      <td>M1979787155</td>\n",
              "      <td>0.0</td>\n",
              "      <td>0.0</td>\n",
              "      <td>0</td>\n",
              "      <td>0</td>\n",
              "    </tr>\n",
              "    <tr>\n",
              "      <th>1</th>\n",
              "      <td>1</td>\n",
              "      <td>PAYMENT</td>\n",
              "      <td>1864.28</td>\n",
              "      <td>C1666544295</td>\n",
              "      <td>21249.0</td>\n",
              "      <td>19384.72</td>\n",
              "      <td>M2044282225</td>\n",
              "      <td>0.0</td>\n",
              "      <td>0.0</td>\n",
              "      <td>0</td>\n",
              "      <td>0</td>\n",
              "    </tr>\n",
              "    <tr>\n",
              "      <th>2</th>\n",
              "      <td>1</td>\n",
              "      <td>TRANSFER</td>\n",
              "      <td>181.00</td>\n",
              "      <td>C1305486145</td>\n",
              "      <td>181.0</td>\n",
              "      <td>0.00</td>\n",
              "      <td>C553264065</td>\n",
              "      <td>0.0</td>\n",
              "      <td>0.0</td>\n",
              "      <td>1</td>\n",
              "      <td>0</td>\n",
              "    </tr>\n",
              "    <tr>\n",
              "      <th>3</th>\n",
              "      <td>1</td>\n",
              "      <td>CASH_OUT</td>\n",
              "      <td>181.00</td>\n",
              "      <td>C840083671</td>\n",
              "      <td>181.0</td>\n",
              "      <td>0.00</td>\n",
              "      <td>C38997010</td>\n",
              "      <td>21182.0</td>\n",
              "      <td>0.0</td>\n",
              "      <td>1</td>\n",
              "      <td>0</td>\n",
              "    </tr>\n",
              "    <tr>\n",
              "      <th>4</th>\n",
              "      <td>1</td>\n",
              "      <td>PAYMENT</td>\n",
              "      <td>11668.14</td>\n",
              "      <td>C2048537720</td>\n",
              "      <td>41554.0</td>\n",
              "      <td>29885.86</td>\n",
              "      <td>M1230701703</td>\n",
              "      <td>0.0</td>\n",
              "      <td>0.0</td>\n",
              "      <td>0</td>\n",
              "      <td>0</td>\n",
              "    </tr>\n",
              "  </tbody>\n",
              "</table>\n",
              "</div>"
            ],
            "text/plain": [
              "   step      type    amount     nameOrig  oldbalanceOrg  newbalanceOrig  \\\n",
              "0     1   PAYMENT   9839.64  C1231006815       170136.0       160296.36   \n",
              "1     1   PAYMENT   1864.28  C1666544295        21249.0        19384.72   \n",
              "2     1  TRANSFER    181.00  C1305486145          181.0            0.00   \n",
              "3     1  CASH_OUT    181.00   C840083671          181.0            0.00   \n",
              "4     1   PAYMENT  11668.14  C2048537720        41554.0        29885.86   \n",
              "\n",
              "      nameDest  oldbalanceDest  newbalanceDest  isFraud  isFlaggedFraud  \n",
              "0  M1979787155             0.0             0.0        0               0  \n",
              "1  M2044282225             0.0             0.0        0               0  \n",
              "2   C553264065             0.0             0.0        1               0  \n",
              "3    C38997010         21182.0             0.0        1               0  \n",
              "4  M1230701703             0.0             0.0        0               0  "
            ]
          },
          "execution_count": 4,
          "metadata": {},
          "output_type": "execute_result"
        }
      ],
      "source": [
        "df1.head()"
      ]
    },
    {
      "cell_type": "code",
      "execution_count": 5,
      "metadata": {
        "ExecuteTime": {
          "end_time": "2021-01-11T18:47:37.491715Z",
          "start_time": "2021-01-11T18:47:37.476639Z"
        },
        "colab": {
          "base_uri": "https://localhost:8080/",
          "height": 206
        },
        "hidden": true,
        "id": "qzOj2z3a0uMC",
        "outputId": "4f9dcef4-48b3-4fb4-f86c-f5575afe5246"
      },
      "outputs": [
        {
          "data": {
            "text/html": [
              "<div>\n",
              "<style scoped>\n",
              "    .dataframe tbody tr th:only-of-type {\n",
              "        vertical-align: middle;\n",
              "    }\n",
              "\n",
              "    .dataframe tbody tr th {\n",
              "        vertical-align: top;\n",
              "    }\n",
              "\n",
              "    .dataframe thead th {\n",
              "        text-align: right;\n",
              "    }\n",
              "</style>\n",
              "<table border=\"1\" class=\"dataframe\">\n",
              "  <thead>\n",
              "    <tr style=\"text-align: right;\">\n",
              "      <th></th>\n",
              "      <th>step</th>\n",
              "      <th>type</th>\n",
              "      <th>amount</th>\n",
              "      <th>nameOrig</th>\n",
              "      <th>oldbalanceOrg</th>\n",
              "      <th>newbalanceOrig</th>\n",
              "      <th>nameDest</th>\n",
              "      <th>oldbalanceDest</th>\n",
              "      <th>newbalanceDest</th>\n",
              "      <th>isFraud</th>\n",
              "      <th>isFlaggedFraud</th>\n",
              "    </tr>\n",
              "  </thead>\n",
              "  <tbody>\n",
              "    <tr>\n",
              "      <th>6362615</th>\n",
              "      <td>743</td>\n",
              "      <td>CASH_OUT</td>\n",
              "      <td>339682.13</td>\n",
              "      <td>C786484425</td>\n",
              "      <td>339682.13</td>\n",
              "      <td>0.0</td>\n",
              "      <td>C776919290</td>\n",
              "      <td>0.00</td>\n",
              "      <td>339682.13</td>\n",
              "      <td>1</td>\n",
              "      <td>0</td>\n",
              "    </tr>\n",
              "    <tr>\n",
              "      <th>6362616</th>\n",
              "      <td>743</td>\n",
              "      <td>TRANSFER</td>\n",
              "      <td>6311409.28</td>\n",
              "      <td>C1529008245</td>\n",
              "      <td>6311409.28</td>\n",
              "      <td>0.0</td>\n",
              "      <td>C1881841831</td>\n",
              "      <td>0.00</td>\n",
              "      <td>0.00</td>\n",
              "      <td>1</td>\n",
              "      <td>0</td>\n",
              "    </tr>\n",
              "    <tr>\n",
              "      <th>6362617</th>\n",
              "      <td>743</td>\n",
              "      <td>CASH_OUT</td>\n",
              "      <td>6311409.28</td>\n",
              "      <td>C1162922333</td>\n",
              "      <td>6311409.28</td>\n",
              "      <td>0.0</td>\n",
              "      <td>C1365125890</td>\n",
              "      <td>68488.84</td>\n",
              "      <td>6379898.11</td>\n",
              "      <td>1</td>\n",
              "      <td>0</td>\n",
              "    </tr>\n",
              "    <tr>\n",
              "      <th>6362618</th>\n",
              "      <td>743</td>\n",
              "      <td>TRANSFER</td>\n",
              "      <td>850002.52</td>\n",
              "      <td>C1685995037</td>\n",
              "      <td>850002.52</td>\n",
              "      <td>0.0</td>\n",
              "      <td>C2080388513</td>\n",
              "      <td>0.00</td>\n",
              "      <td>0.00</td>\n",
              "      <td>1</td>\n",
              "      <td>0</td>\n",
              "    </tr>\n",
              "    <tr>\n",
              "      <th>6362619</th>\n",
              "      <td>743</td>\n",
              "      <td>CASH_OUT</td>\n",
              "      <td>850002.52</td>\n",
              "      <td>C1280323807</td>\n",
              "      <td>850002.52</td>\n",
              "      <td>0.0</td>\n",
              "      <td>C873221189</td>\n",
              "      <td>6510099.11</td>\n",
              "      <td>7360101.63</td>\n",
              "      <td>1</td>\n",
              "      <td>0</td>\n",
              "    </tr>\n",
              "  </tbody>\n",
              "</table>\n",
              "</div>"
            ],
            "text/plain": [
              "         step      type      amount     nameOrig  oldbalanceOrg  \\\n",
              "6362615   743  CASH_OUT   339682.13   C786484425      339682.13   \n",
              "6362616   743  TRANSFER  6311409.28  C1529008245     6311409.28   \n",
              "6362617   743  CASH_OUT  6311409.28  C1162922333     6311409.28   \n",
              "6362618   743  TRANSFER   850002.52  C1685995037      850002.52   \n",
              "6362619   743  CASH_OUT   850002.52  C1280323807      850002.52   \n",
              "\n",
              "         newbalanceOrig     nameDest  oldbalanceDest  newbalanceDest  isFraud  \\\n",
              "6362615             0.0   C776919290            0.00       339682.13        1   \n",
              "6362616             0.0  C1881841831            0.00            0.00        1   \n",
              "6362617             0.0  C1365125890        68488.84      6379898.11        1   \n",
              "6362618             0.0  C2080388513            0.00            0.00        1   \n",
              "6362619             0.0   C873221189      6510099.11      7360101.63        1   \n",
              "\n",
              "         isFlaggedFraud  \n",
              "6362615               0  \n",
              "6362616               0  \n",
              "6362617               0  \n",
              "6362618               0  \n",
              "6362619               0  "
            ]
          },
          "execution_count": 5,
          "metadata": {},
          "output_type": "execute_result"
        }
      ],
      "source": [
        "df1.tail()"
      ]
    },
    {
      "cell_type": "markdown",
      "metadata": {
        "hidden": true,
        "id": "QjSZpios0uMC"
      },
      "source": [
        "## 1.2 Columns"
      ]
    },
    {
      "cell_type": "markdown",
      "metadata": {
        "hidden": true,
        "id": "GmYeyOuJ0uMD"
      },
      "source": [
        "### 1.2.1 Column Descriptions"
      ]
    },
    {
      "cell_type": "markdown",
      "metadata": {
        "hidden": true,
        "id": "FfR-lfkU0uMD"
      },
      "source": [
        "**step:** maps a unit of time in the real world. In this case 1 step is 1 hour of time. Total steps 744 (30 days simulation).\n",
        "\n",
        "**type:** CASH-IN, CASH-OUT, DEBIT, PAYMENT and TRANSFER.\n",
        "\n",
        "**amount:** amount of the transaction in local currency.\n",
        "\n",
        "**nameOrig:** customer who started the transaction\n",
        "\n",
        "**oldbalanceOrg:** initial balance before the transaction\n",
        "\n",
        "**newbalanceOrig:** new balance after the transaction\n",
        "\n",
        "**nameDest:** customer who is the recipient of the transaction\n",
        "\n",
        "**oldbalanceDest:** initial balance recipient before the transaction. Note that there is not information for customers that start with M (Merchants).\n",
        "\n",
        "**newbalanceDest:** new balance recipient after the transaction. Note that there is not information for customers that start with M (Merchants).\n",
        "\n",
        "**isFraud:** This is the transactions made by the fraudulent agents inside the simulation. In this specific dataset the fraudulent behavior of the agents aims to profit by taking control or customers accounts and try to empty the funds by transferring to another account and then cashing out of the system.\n",
        "\n",
        "**isFlaggedFraud:** The business model aims to control massive transfers from one account to another and flags illegal attempts. An illegal attempt in this dataset is an attempt to transfer more than 200.000 in a single transaction."
      ]
    },
    {
      "cell_type": "markdown",
      "metadata": {
        "ExecuteTime": {
          "end_time": "2020-12-12T21:31:42.617142Z",
          "start_time": "2020-12-12T21:31:42.609502Z"
        },
        "hidden": true,
        "id": "aiVPKeRv0uMD"
      },
      "source": [
        "### 1.2.2 Column Rename"
      ]
    },
    {
      "cell_type": "code",
      "execution_count": 6,
      "metadata": {
        "ExecuteTime": {
          "end_time": "2021-01-11T18:47:37.498900Z",
          "start_time": "2021-01-11T18:47:37.494994Z"
        },
        "hidden": true,
        "id": "fDXGUnyd0uMD"
      },
      "outputs": [],
      "source": [
        "cols_old = df1.columns.tolist()\n",
        "\n",
        "snakecase = lambda x: inflection.underscore(x)\n",
        "cols_new = list(map(snakecase, cols_old))\n",
        "\n",
        "df1.columns = cols_new"
      ]
    },
    {
      "cell_type": "code",
      "execution_count": 7,
      "metadata": {
        "ExecuteTime": {
          "end_time": "2021-01-11T18:47:37.505663Z",
          "start_time": "2021-01-11T18:47:37.501235Z"
        },
        "colab": {
          "base_uri": "https://localhost:8080/"
        },
        "hidden": true,
        "id": "8dRkCe3n0uMD",
        "outputId": "ce1fb6d4-b60d-4246-a976-43848da4b3f7"
      },
      "outputs": [
        {
          "data": {
            "text/plain": [
              "Index(['step', 'type', 'amount', 'name_orig', 'oldbalance_org',\n",
              "       'newbalance_orig', 'name_dest', 'oldbalance_dest', 'newbalance_dest',\n",
              "       'is_fraud', 'is_flagged_fraud'],\n",
              "      dtype='object')"
            ]
          },
          "execution_count": 7,
          "metadata": {},
          "output_type": "execute_result"
        }
      ],
      "source": [
        "df1.columns"
      ]
    },
    {
      "cell_type": "markdown",
      "metadata": {
        "hidden": true,
        "id": "VPhzQ0100uMD"
      },
      "source": [
        "## 1.3 Data Dimension"
      ]
    },
    {
      "cell_type": "code",
      "execution_count": 8,
      "metadata": {
        "ExecuteTime": {
          "end_time": "2021-01-11T18:47:37.851622Z",
          "start_time": "2021-01-11T18:47:37.847980Z"
        },
        "colab": {
          "base_uri": "https://localhost:8080/"
        },
        "hidden": true,
        "id": "UEtefaFE0uMD",
        "outputId": "669ae2c2-910c-4849-ea08-41b85742aff2"
      },
      "outputs": [
        {
          "name": "stdout",
          "output_type": "stream",
          "text": [
            "Number of Rows: 6362620\n",
            "Number of Cols: 11\n"
          ]
        }
      ],
      "source": [
        "print('Number of Rows: {}'.format(df1.shape[0]))\n",
        "print('Number of Cols: {}'.format(df1.shape[1]))"
      ]
    },
    {
      "cell_type": "markdown",
      "metadata": {
        "hidden": true,
        "id": "erlsTmpG0uME"
      },
      "source": [
        "## 1.4 Data Types and Structure"
      ]
    },
    {
      "cell_type": "code",
      "execution_count": 9,
      "metadata": {
        "ExecuteTime": {
          "end_time": "2021-01-11T18:47:38.334664Z",
          "start_time": "2021-01-11T18:47:38.201896Z"
        },
        "colab": {
          "base_uri": "https://localhost:8080/"
        },
        "hidden": true,
        "id": "FcbiX49F0uME",
        "outputId": "8635f179-a949-46b7-a221-d03d1569b7c0"
      },
      "outputs": [
        {
          "name": "stdout",
          "output_type": "stream",
          "text": [
            "<class 'pandas.core.frame.DataFrame'>\n",
            "RangeIndex: 6362620 entries, 0 to 6362619\n",
            "Data columns (total 11 columns):\n",
            " #   Column            Dtype  \n",
            "---  ------            -----  \n",
            " 0   step              int64  \n",
            " 1   type              object \n",
            " 2   amount            float64\n",
            " 3   name_orig         object \n",
            " 4   oldbalance_org    float64\n",
            " 5   newbalance_orig   float64\n",
            " 6   name_dest         object \n",
            " 7   oldbalance_dest   float64\n",
            " 8   newbalance_dest   float64\n",
            " 9   is_fraud          int64  \n",
            " 10  is_flagged_fraud  int64  \n",
            "dtypes: float64(5), int64(3), object(3)\n",
            "memory usage: 534.0+ MB\n"
          ]
        }
      ],
      "source": [
        "df1.info()"
      ]
    },
    {
      "cell_type": "markdown",
      "metadata": {
        "hidden": true,
        "id": "ItTwEqoC0uME"
      },
      "source": [
        "## 1.5 Check NA"
      ]
    },
    {
      "cell_type": "code",
      "execution_count": 10,
      "metadata": {
        "ExecuteTime": {
          "end_time": "2021-01-11T18:47:38.655459Z",
          "start_time": "2021-01-11T18:47:38.542451Z"
        },
        "colab": {
          "base_uri": "https://localhost:8080/"
        },
        "hidden": true,
        "id": "DU9TFkLv0uME",
        "outputId": "369ba539-001e-4f8b-8446-cfc2aaa2c294"
      },
      "outputs": [
        {
          "data": {
            "text/plain": [
              "step                0.0\n",
              "type                0.0\n",
              "amount              0.0\n",
              "name_orig           0.0\n",
              "oldbalance_org      0.0\n",
              "newbalance_orig     0.0\n",
              "name_dest           0.0\n",
              "oldbalance_dest     0.0\n",
              "newbalance_dest     0.0\n",
              "is_fraud            0.0\n",
              "is_flagged_fraud    0.0\n",
              "dtype: float64"
            ]
          },
          "execution_count": 10,
          "metadata": {},
          "output_type": "execute_result"
        }
      ],
      "source": [
        "df1.isna().mean()"
      ]
    },
    {
      "cell_type": "markdown",
      "metadata": {
        "heading_collapsed": true,
        "id": "l69HCOHb0uML"
      },
      "source": [
        "# 2.0 Exploratory Data Analisys"
      ]
    },
    {
      "cell_type": "code",
      "execution_count": 11,
      "metadata": {
        "ExecuteTime": {
          "end_time": "2021-01-11T18:47:45.536329Z",
          "start_time": "2021-01-11T18:47:45.479614Z"
        },
        "hidden": true,
        "id": "JjL-o0xn0uML"
      },
      "outputs": [],
      "source": [
        "df2 = df1.copy()"
      ]
    },
    {
      "cell_type": "markdown",
      "metadata": {
        "id": "zVdCQfAd-QPj"
      },
      "source": [
        "Highly imbalanced dataset"
      ]
    },
    {
      "cell_type": "code",
      "execution_count": 12,
      "metadata": {
        "ExecuteTime": {
          "end_time": "2021-01-11T18:47:46.652434Z",
          "start_time": "2021-01-11T18:47:46.010096Z"
        },
        "colab": {
          "base_uri": "https://localhost:8080/",
          "height": 449
        },
        "hidden": true,
        "id": "lcJrKFvh0uML",
        "outputId": "31906571-a26a-43d7-c0bc-40373dff28e9"
      },
      "outputs": [
        {
          "data": {
            "image/png": "[encoded data removed]",
            "text/plain": [
              "<Figure size 640x480 with 1 Axes>"
            ]
          },
          "metadata": {},
          "output_type": "display_data"
        }
      ],
      "source": [
        "ax = sns.countplot(y='is_fraud', data=df2);\n",
        "total = df2['is_fraud'].size\n",
        "for p in ax.patches:\n",
        "        percentage = ' {:.1f}%'.format(100 * p.get_width()/total)\n",
        "        x = p.get_x() + p.get_width() + 0.02\n",
        "        y = p.get_y() + p.get_height()/2\n",
        "        ax.annotate(percentage, (x, y))"
      ]
    },
    {
      "cell_type": "code",
      "execution_count": 13,
      "metadata": {
        "colab": {
          "base_uri": "https://localhost:8080/",
          "height": 413
        },
        "id": "SmxctLV4Vt1_",
        "outputId": "73483688-f09d-4bf7-da3e-4790a7a8cc72"
      },
      "outputs": [
        {
          "data": {
            "image/png": "[encoded data removed]",
            "text/plain": [
              "<Figure size 640x480 with 1 Axes>"
            ]
          },
          "metadata": {},
          "output_type": "display_data"
        }
      ],
      "source": [
        "labels = df2['type'].astype('category').cat.categories.tolist()\n",
        "counts = df2['type'].value_counts()\n",
        "sizes = [counts[var_cat] for var_cat in labels]\n",
        "fig1, ax1 = plt.subplots()\n",
        "ax1.pie(sizes, labels=labels, autopct='%1.1f%%', shadow=True) #autopct is show the % on plot\n",
        "ax1.axis('equal')\n",
        "plt.show()"
      ]
    },
    {
      "cell_type": "code",
      "execution_count": 14,
      "metadata": {
        "colab": {
          "base_uri": "https://localhost:8080/",
          "height": 449
        },
        "id": "dETje-aiy3uT",
        "outputId": "85e35468-3d9f-4462-8f44-0033d599097a"
      },
      "outputs": [
        {
          "data": {
            "image/png": "[encoded data removed]",
            "text/plain": [
              "<Figure size 640x480 with 1 Axes>"
            ]
          },
          "metadata": {},
          "output_type": "display_data"
        }
      ],
      "source": [
        "\n",
        "ax = sns.countplot(y='type', hue='is_fraud', data=df2)\n",
        "\n",
        "total = df2['type'].size\n",
        "for p in ax.patches:\n",
        "        percentage = ' {:.1f}%'.format(100 * p.get_width()/total)\n",
        "        x = p.get_x() + p.get_width() + 0.02\n",
        "        y = p.get_y() + p.get_height()/2\n",
        "        ax.annotate(percentage, (x, y))\n",
        "\n"
      ]
    },
    {
      "cell_type": "markdown",
      "metadata": {
        "id": "bnpvgRfLzA5k"
      },
      "source": [
        "Fraud Transactions in CASH_OUT and TRANSFER only"
      ]
    },
    {
      "cell_type": "code",
      "execution_count": 15,
      "metadata": {
        "colab": {
          "base_uri": "https://localhost:8080/"
        },
        "id": "bLTe6qvY0CyU",
        "outputId": "5afe0518-f641-4efb-915f-dfc94a1de07b"
      },
      "outputs": [
        {
          "name": "stdout",
          "output_type": "stream",
          "text": [
            "\n",
            " The types of fraudulent transactions are ['TRANSFER', 'CASH_OUT']\n",
            "\n",
            " The number of fraudulent TRANSFERs = 4097\n",
            "\n",
            " The number of fraudulent CASH_OUTs = 4116\n"
          ]
        }
      ],
      "source": [
        "print('\\n The types of fraudulent transactions are {}'.format(\\\n",
        "list(df2.loc[df2.is_fraud == 1].type.drop_duplicates().values))) # only 'CASH_OUT'\n",
        "                                                             # & 'TRANSFER'\n",
        "\n",
        "dfFraudTransfer = df2.loc[(df2.is_fraud == 1) & (df2.type == 'TRANSFER')]\n",
        "dfFraudCashout = df2.loc[(df2.is_fraud == 1) & (df2.type == 'CASH_OUT')]\n",
        "\n",
        "print ('\\n The number of fraudulent TRANSFERs = {}'.\\\n",
        "       format(len(dfFraudTransfer)))\n",
        "\n",
        "print ('\\n The number of fraudulent CASH_OUTs = {}'.\\\n",
        "       format(len(dfFraudCashout)))"
      ]
    },
    {
      "cell_type": "markdown",
      "metadata": {
        "id": "yUVCkEHY-Vpc"
      },
      "source": [
        "\n",
        "\n",
        "The data has several transactions with zero balances in the destination account both before and after a non-zero amount is transacted. The fraction of such transactions, where zero likely denotes a missing value, is much larger in fraudulent (50%) compared to genuine transactions"
      ]
    },
    {
      "cell_type": "code",
      "execution_count": 16,
      "metadata": {
        "colab": {
          "base_uri": "https://localhost:8080/"
        },
        "id": "XiwpcUqQ0zw0",
        "outputId": "ff46712b-ad3a-47a9-cb2c-fc25761210ef"
      },
      "outputs": [
        {
          "name": "stdout",
          "output_type": "stream",
          "text": [
            "\n",
            "The fraction of fraudulent transactions with 'oldbalance_dest' = 'newbalance_dest' = 0 although the transacted 'amount' is non-zero is: 0.4955558261293072\n"
          ]
        }
      ],
      "source": [
        "X_fraud = df2.loc[df2.is_fraud == 1]\n",
        "Xnon_fraud = df2.loc[df2.is_fraud == 0]\n",
        "print('\\nThe fraction of fraudulent transactions with \\'oldbalance_dest\\' = \\\n",
        "\\'newbalance_dest\\' = 0 although the transacted \\'amount\\' is non-zero is: {}'.\\\n",
        "format(len(X_fraud.loc[(X_fraud.oldbalance_dest == 0) & \\\n",
        "(X_fraud.newbalance_dest == 0) & (X_fraud.amount)]) / (1.0 * len(X_fraud))))\n"
      ]
    },
    {
      "cell_type": "markdown",
      "metadata": {
        "heading_collapsed": true,
        "id": "UVjM8Y_Q0uMH"
      },
      "source": [
        "# 3.0 Feature Engineering"
      ]
    },
    {
      "cell_type": "code",
      "execution_count": 17,
      "metadata": {
        "ExecuteTime": {
          "end_time": "2021-01-11T18:47:42.876765Z",
          "start_time": "2021-01-11T18:47:42.823469Z"
        },
        "hidden": true,
        "id": "USsUvfgh0uMH"
      },
      "outputs": [],
      "source": [
        "df3 = df2.copy()"
      ]
    },
    {
      "cell_type": "code",
      "execution_count": 18,
      "metadata": {
        "ExecuteTime": {
          "end_time": "2021-01-11T18:47:44.922596Z",
          "start_time": "2021-01-11T18:47:43.999043Z"
        },
        "colab": {
          "base_uri": "https://localhost:8080/",
          "height": 488
        },
        "hidden": true,
        "id": "rXMN50yM0uMK",
        "outputId": "8a77210c-4efe-4475-d5c2-77f83b29c958"
      },
      "outputs": [
        {
          "data": {
            "text/html": [
              "<div>\n",
              "<style scoped>\n",
              "    .dataframe tbody tr th:only-of-type {\n",
              "        vertical-align: middle;\n",
              "    }\n",
              "\n",
              "    .dataframe tbody tr th {\n",
              "        vertical-align: top;\n",
              "    }\n",
              "\n",
              "    .dataframe thead th {\n",
              "        text-align: right;\n",
              "    }\n",
              "</style>\n",
              "<table border=\"1\" class=\"dataframe\">\n",
              "  <thead>\n",
              "    <tr style=\"text-align: right;\">\n",
              "      <th></th>\n",
              "      <th>step</th>\n",
              "      <th>type</th>\n",
              "      <th>amount</th>\n",
              "      <th>name_orig</th>\n",
              "      <th>oldbalance_org</th>\n",
              "      <th>newbalance_orig</th>\n",
              "      <th>name_dest</th>\n",
              "      <th>oldbalance_dest</th>\n",
              "      <th>newbalance_dest</th>\n",
              "      <th>is_fraud</th>\n",
              "      <th>is_flagged_fraud</th>\n",
              "      <th>step_days</th>\n",
              "      <th>step_weeks</th>\n",
              "      <th>diff_new_old_balance</th>\n",
              "      <th>diff_new_old_destiny</th>\n",
              "    </tr>\n",
              "  </thead>\n",
              "  <tbody>\n",
              "    <tr>\n",
              "      <th>0</th>\n",
              "      <td>1</td>\n",
              "      <td>PAYMENT</td>\n",
              "      <td>9839.64</td>\n",
              "      <td>C</td>\n",
              "      <td>170136.00</td>\n",
              "      <td>160296.36</td>\n",
              "      <td>M</td>\n",
              "      <td>0.00</td>\n",
              "      <td>0.00</td>\n",
              "      <td>0</td>\n",
              "      <td>0</td>\n",
              "      <td>0.041667</td>\n",
              "      <td>0.005952</td>\n",
              "      <td>-9839.64</td>\n",
              "      <td>0.00</td>\n",
              "    </tr>\n",
              "    <tr>\n",
              "      <th>1</th>\n",
              "      <td>1</td>\n",
              "      <td>PAYMENT</td>\n",
              "      <td>1864.28</td>\n",
              "      <td>C</td>\n",
              "      <td>21249.00</td>\n",
              "      <td>19384.72</td>\n",
              "      <td>M</td>\n",
              "      <td>0.00</td>\n",
              "      <td>0.00</td>\n",
              "      <td>0</td>\n",
              "      <td>0</td>\n",
              "      <td>0.041667</td>\n",
              "      <td>0.005952</td>\n",
              "      <td>-1864.28</td>\n",
              "      <td>0.00</td>\n",
              "    </tr>\n",
              "    <tr>\n",
              "      <th>2</th>\n",
              "      <td>1</td>\n",
              "      <td>TRANSFER</td>\n",
              "      <td>181.00</td>\n",
              "      <td>C</td>\n",
              "      <td>181.00</td>\n",
              "      <td>0.00</td>\n",
              "      <td>C</td>\n",
              "      <td>0.00</td>\n",
              "      <td>0.00</td>\n",
              "      <td>1</td>\n",
              "      <td>0</td>\n",
              "      <td>0.041667</td>\n",
              "      <td>0.005952</td>\n",
              "      <td>-181.00</td>\n",
              "      <td>0.00</td>\n",
              "    </tr>\n",
              "    <tr>\n",
              "      <th>3</th>\n",
              "      <td>1</td>\n",
              "      <td>CASH_OUT</td>\n",
              "      <td>181.00</td>\n",
              "      <td>C</td>\n",
              "      <td>181.00</td>\n",
              "      <td>0.00</td>\n",
              "      <td>C</td>\n",
              "      <td>21182.00</td>\n",
              "      <td>0.00</td>\n",
              "      <td>1</td>\n",
              "      <td>0</td>\n",
              "      <td>0.041667</td>\n",
              "      <td>0.005952</td>\n",
              "      <td>-181.00</td>\n",
              "      <td>-21182.00</td>\n",
              "    </tr>\n",
              "    <tr>\n",
              "      <th>4</th>\n",
              "      <td>1</td>\n",
              "      <td>PAYMENT</td>\n",
              "      <td>11668.14</td>\n",
              "      <td>C</td>\n",
              "      <td>41554.00</td>\n",
              "      <td>29885.86</td>\n",
              "      <td>M</td>\n",
              "      <td>0.00</td>\n",
              "      <td>0.00</td>\n",
              "      <td>0</td>\n",
              "      <td>0</td>\n",
              "      <td>0.041667</td>\n",
              "      <td>0.005952</td>\n",
              "      <td>-11668.14</td>\n",
              "      <td>0.00</td>\n",
              "    </tr>\n",
              "    <tr>\n",
              "      <th>...</th>\n",
              "      <td>...</td>\n",
              "      <td>...</td>\n",
              "      <td>...</td>\n",
              "      <td>...</td>\n",
              "      <td>...</td>\n",
              "      <td>...</td>\n",
              "      <td>...</td>\n",
              "      <td>...</td>\n",
              "      <td>...</td>\n",
              "      <td>...</td>\n",
              "      <td>...</td>\n",
              "      <td>...</td>\n",
              "      <td>...</td>\n",
              "      <td>...</td>\n",
              "      <td>...</td>\n",
              "    </tr>\n",
              "    <tr>\n",
              "      <th>6362615</th>\n",
              "      <td>743</td>\n",
              "      <td>CASH_OUT</td>\n",
              "      <td>339682.13</td>\n",
              "      <td>C</td>\n",
              "      <td>339682.13</td>\n",
              "      <td>0.00</td>\n",
              "      <td>C</td>\n",
              "      <td>0.00</td>\n",
              "      <td>339682.13</td>\n",
              "      <td>1</td>\n",
              "      <td>0</td>\n",
              "      <td>30.958333</td>\n",
              "      <td>4.422619</td>\n",
              "      <td>-339682.13</td>\n",
              "      <td>339682.13</td>\n",
              "    </tr>\n",
              "    <tr>\n",
              "      <th>6362616</th>\n",
              "      <td>743</td>\n",
              "      <td>TRANSFER</td>\n",
              "      <td>6311409.28</td>\n",
              "      <td>C</td>\n",
              "      <td>6311409.28</td>\n",
              "      <td>0.00</td>\n",
              "      <td>C</td>\n",
              "      <td>0.00</td>\n",
              "      <td>0.00</td>\n",
              "      <td>1</td>\n",
              "      <td>0</td>\n",
              "      <td>30.958333</td>\n",
              "      <td>4.422619</td>\n",
              "      <td>-6311409.28</td>\n",
              "      <td>0.00</td>\n",
              "    </tr>\n",
              "    <tr>\n",
              "      <th>6362617</th>\n",
              "      <td>743</td>\n",
              "      <td>CASH_OUT</td>\n",
              "      <td>6311409.28</td>\n",
              "      <td>C</td>\n",
              "      <td>6311409.28</td>\n",
              "      <td>0.00</td>\n",
              "      <td>C</td>\n",
              "      <td>68488.84</td>\n",
              "      <td>6379898.11</td>\n",
              "      <td>1</td>\n",
              "      <td>0</td>\n",
              "      <td>30.958333</td>\n",
              "      <td>4.422619</td>\n",
              "      <td>-6311409.28</td>\n",
              "      <td>6311409.27</td>\n",
              "    </tr>\n",
              "    <tr>\n",
              "      <th>6362618</th>\n",
              "      <td>743</td>\n",
              "      <td>TRANSFER</td>\n",
              "      <td>850002.52</td>\n",
              "      <td>C</td>\n",
              "      <td>850002.52</td>\n",
              "      <td>0.00</td>\n",
              "      <td>C</td>\n",
              "      <td>0.00</td>\n",
              "      <td>0.00</td>\n",
              "      <td>1</td>\n",
              "      <td>0</td>\n",
              "      <td>30.958333</td>\n",
              "      <td>4.422619</td>\n",
              "      <td>-850002.52</td>\n",
              "      <td>0.00</td>\n",
              "    </tr>\n",
              "    <tr>\n",
              "      <th>6362619</th>\n",
              "      <td>743</td>\n",
              "      <td>CASH_OUT</td>\n",
              "      <td>850002.52</td>\n",
              "      <td>C</td>\n",
              "      <td>850002.52</td>\n",
              "      <td>0.00</td>\n",
              "      <td>C</td>\n",
              "      <td>6510099.11</td>\n",
              "      <td>7360101.63</td>\n",
              "      <td>1</td>\n",
              "      <td>0</td>\n",
              "      <td>30.958333</td>\n",
              "      <td>4.422619</td>\n",
              "      <td>-850002.52</td>\n",
              "      <td>850002.52</td>\n",
              "    </tr>\n",
              "  </tbody>\n",
              "</table>\n",
              "<p>6362620 rows × 15 columns</p>\n",
              "</div>"
            ],
            "text/plain": [
              "         step      type      amount name_orig  oldbalance_org  \\\n",
              "0           1   PAYMENT     9839.64         C       170136.00   \n",
              "1           1   PAYMENT     1864.28         C        21249.00   \n",
              "2           1  TRANSFER      181.00         C          181.00   \n",
              "3           1  CASH_OUT      181.00         C          181.00   \n",
              "4           1   PAYMENT    11668.14         C        41554.00   \n",
              "...       ...       ...         ...       ...             ...   \n",
              "6362615   743  CASH_OUT   339682.13         C       339682.13   \n",
              "6362616   743  TRANSFER  6311409.28         C      6311409.28   \n",
              "6362617   743  CASH_OUT  6311409.28         C      6311409.28   \n",
              "6362618   743  TRANSFER   850002.52         C       850002.52   \n",
              "6362619   743  CASH_OUT   850002.52         C       850002.52   \n",
              "\n",
              "         newbalance_orig name_dest  oldbalance_dest  newbalance_dest  \\\n",
              "0              160296.36         M             0.00             0.00   \n",
              "1               19384.72         M             0.00             0.00   \n",
              "2                   0.00         C             0.00             0.00   \n",
              "3                   0.00         C         21182.00             0.00   \n",
              "4               29885.86         M             0.00             0.00   \n",
              "...                  ...       ...              ...              ...   \n",
              "6362615             0.00         C             0.00        339682.13   \n",
              "6362616             0.00         C             0.00             0.00   \n",
              "6362617             0.00         C         68488.84       6379898.11   \n",
              "6362618             0.00         C             0.00             0.00   \n",
              "6362619             0.00         C       6510099.11       7360101.63   \n",
              "\n",
              "         is_fraud  is_flagged_fraud  step_days  step_weeks  \\\n",
              "0               0                 0   0.041667    0.005952   \n",
              "1               0                 0   0.041667    0.005952   \n",
              "2               1                 0   0.041667    0.005952   \n",
              "3               1                 0   0.041667    0.005952   \n",
              "4               0                 0   0.041667    0.005952   \n",
              "...           ...               ...        ...         ...   \n",
              "6362615         1                 0  30.958333    4.422619   \n",
              "6362616         1                 0  30.958333    4.422619   \n",
              "6362617         1                 0  30.958333    4.422619   \n",
              "6362618         1                 0  30.958333    4.422619   \n",
              "6362619         1                 0  30.958333    4.422619   \n",
              "\n",
              "         diff_new_old_balance  diff_new_old_destiny  \n",
              "0                    -9839.64                  0.00  \n",
              "1                    -1864.28                  0.00  \n",
              "2                     -181.00                  0.00  \n",
              "3                     -181.00             -21182.00  \n",
              "4                   -11668.14                  0.00  \n",
              "...                       ...                   ...  \n",
              "6362615            -339682.13             339682.13  \n",
              "6362616           -6311409.28                  0.00  \n",
              "6362617           -6311409.28            6311409.27  \n",
              "6362618            -850002.52                  0.00  \n",
              "6362619            -850002.52             850002.52  \n",
              "\n",
              "[6362620 rows x 15 columns]"
            ]
          },
          "execution_count": 18,
          "metadata": {},
          "output_type": "execute_result"
        }
      ],
      "source": [
        "# step\n",
        "df3['step_days'] = df3['step'].apply(lambda i: i/24)\n",
        "df3['step_weeks'] = df3['step'].apply(lambda i: i/(24*7))\n",
        "\n",
        "# difference between initial balance before the transaction and new balance after the transaction\n",
        "df3['diff_new_old_balance'] = df3['newbalance_orig'] - df3['oldbalance_org']\n",
        "\n",
        "# difference between initial balance recipient before the transaction and new balance recipient after the transaction.\n",
        "df3['diff_new_old_destiny'] = df3['newbalance_dest'] - df3['oldbalance_dest']\n",
        "\n",
        "# name orig and name dest\n",
        "df3['name_orig'] = df3['name_orig'].apply(lambda i: i[0])\n",
        "df3['name_dest'] = df3['name_dest'].apply(lambda i: i[0])\n",
        "df3"
      ]
    },
    {
      "cell_type": "markdown",
      "metadata": {
        "heading_collapsed": true,
        "id": "uu_x45Kq0uMQ"
      },
      "source": [
        "# 4.0 Data Preparation"
      ]
    },
    {
      "cell_type": "code",
      "execution_count": 19,
      "metadata": {
        "ExecuteTime": {
          "end_time": "2021-01-11T21:08:18.459835Z",
          "start_time": "2021-01-11T21:08:18.344976Z"
        },
        "hidden": true,
        "id": "N-1o_Srg0uMR"
      },
      "outputs": [],
      "source": [
        "df4 = df3.copy()"
      ]
    },
    {
      "cell_type": "markdown",
      "metadata": {
        "hidden": true,
        "id": "C49Fb7pe0uMR"
      },
      "source": [
        "## 4.1 Spliting into Train and Test"
      ]
    },
    {
      "cell_type": "code",
      "execution_count": 20,
      "metadata": {
        "ExecuteTime": {
          "end_time": "2021-01-11T21:08:28.207352Z",
          "start_time": "2021-01-11T21:08:28.110364Z"
        },
        "hidden": true,
        "id": "RGGDckbm0uMR"
      },
      "outputs": [],
      "source": [
        "y = df4['is_fraud']\n",
        "X = df4.drop(columns=['is_fraud', 'is_flagged_fraud', 'name_orig', 'name_dest','step_weeks', 'step_days'], axis=1)"
      ]
    },
    {
      "cell_type": "code",
      "execution_count": 21,
      "metadata": {
        "ExecuteTime": {
          "end_time": "2021-01-11T21:08:29.045814Z",
          "start_time": "2021-01-11T21:08:28.582692Z"
        },
        "hidden": true,
        "id": "hqGYWTDJ0uMR"
      },
      "outputs": [],
      "source": [
        "# spliting into temp and test\n",
        "X_train, X_test, y_train, y_test = train_test_split(X, y, test_size=.2, stratify=y)"
      ]
    },
    {
      "cell_type": "markdown",
      "metadata": {
        "hidden": true,
        "id": "r1yPGlVw0uMR"
      },
      "source": [
        "## 4.2 One Hot Encoder"
      ]
    },
    {
      "cell_type": "code",
      "execution_count": 22,
      "metadata": {
        "ExecuteTime": {
          "end_time": "2021-01-11T21:08:32.964462Z",
          "start_time": "2021-01-11T21:08:31.876822Z"
        },
        "colab": {
          "base_uri": "https://localhost:8080/",
          "height": 270
        },
        "hidden": true,
        "id": "i5lqtOne0uMS",
        "outputId": "91ca07ae-6115-4dc6-f8bb-cf418980a605"
      },
      "outputs": [
        {
          "data": {
            "text/html": [
              "<div>\n",
              "<style scoped>\n",
              "    .dataframe tbody tr th:only-of-type {\n",
              "        vertical-align: middle;\n",
              "    }\n",
              "\n",
              "    .dataframe tbody tr th {\n",
              "        vertical-align: top;\n",
              "    }\n",
              "\n",
              "    .dataframe thead th {\n",
              "        text-align: right;\n",
              "    }\n",
              "</style>\n",
              "<table border=\"1\" class=\"dataframe\">\n",
              "  <thead>\n",
              "    <tr style=\"text-align: right;\">\n",
              "      <th></th>\n",
              "      <th>step</th>\n",
              "      <th>type_PAYMENT</th>\n",
              "      <th>type_CASH_OUT</th>\n",
              "      <th>type_CASH_IN</th>\n",
              "      <th>type_TRANSFER</th>\n",
              "      <th>type_DEBIT</th>\n",
              "      <th>amount</th>\n",
              "      <th>oldbalance_org</th>\n",
              "      <th>newbalance_orig</th>\n",
              "      <th>oldbalance_dest</th>\n",
              "      <th>newbalance_dest</th>\n",
              "      <th>diff_new_old_balance</th>\n",
              "      <th>diff_new_old_destiny</th>\n",
              "    </tr>\n",
              "  </thead>\n",
              "  <tbody>\n",
              "    <tr>\n",
              "      <th>4051353</th>\n",
              "      <td>300</td>\n",
              "      <td>0</td>\n",
              "      <td>0</td>\n",
              "      <td>0</td>\n",
              "      <td>1</td>\n",
              "      <td>0</td>\n",
              "      <td>890577.21</td>\n",
              "      <td>218.00</td>\n",
              "      <td>0.00</td>\n",
              "      <td>0.00</td>\n",
              "      <td>890577.21</td>\n",
              "      <td>-218.00</td>\n",
              "      <td>890577.21</td>\n",
              "    </tr>\n",
              "    <tr>\n",
              "      <th>5746321</th>\n",
              "      <td>399</td>\n",
              "      <td>0</td>\n",
              "      <td>0</td>\n",
              "      <td>1</td>\n",
              "      <td>0</td>\n",
              "      <td>0</td>\n",
              "      <td>97734.24</td>\n",
              "      <td>2096258.84</td>\n",
              "      <td>2193993.08</td>\n",
              "      <td>320136.00</td>\n",
              "      <td>222401.76</td>\n",
              "      <td>97734.24</td>\n",
              "      <td>-97734.24</td>\n",
              "    </tr>\n",
              "    <tr>\n",
              "      <th>6361797</th>\n",
              "      <td>718</td>\n",
              "      <td>1</td>\n",
              "      <td>0</td>\n",
              "      <td>0</td>\n",
              "      <td>0</td>\n",
              "      <td>0</td>\n",
              "      <td>5907.41</td>\n",
              "      <td>315.00</td>\n",
              "      <td>0.00</td>\n",
              "      <td>0.00</td>\n",
              "      <td>0.00</td>\n",
              "      <td>-315.00</td>\n",
              "      <td>0.00</td>\n",
              "    </tr>\n",
              "    <tr>\n",
              "      <th>2247309</th>\n",
              "      <td>186</td>\n",
              "      <td>0</td>\n",
              "      <td>1</td>\n",
              "      <td>0</td>\n",
              "      <td>0</td>\n",
              "      <td>0</td>\n",
              "      <td>187696.30</td>\n",
              "      <td>11057.00</td>\n",
              "      <td>0.00</td>\n",
              "      <td>1798095.21</td>\n",
              "      <td>1985791.51</td>\n",
              "      <td>-11057.00</td>\n",
              "      <td>187696.30</td>\n",
              "    </tr>\n",
              "    <tr>\n",
              "      <th>4692207</th>\n",
              "      <td>331</td>\n",
              "      <td>0</td>\n",
              "      <td>1</td>\n",
              "      <td>0</td>\n",
              "      <td>0</td>\n",
              "      <td>0</td>\n",
              "      <td>82646.52</td>\n",
              "      <td>0.00</td>\n",
              "      <td>0.00</td>\n",
              "      <td>1047805.87</td>\n",
              "      <td>1130452.39</td>\n",
              "      <td>0.00</td>\n",
              "      <td>82646.52</td>\n",
              "    </tr>\n",
              "  </tbody>\n",
              "</table>\n",
              "</div>"
            ],
            "text/plain": [
              "         step  type_PAYMENT  type_CASH_OUT  type_CASH_IN  type_TRANSFER  \\\n",
              "4051353   300             0              0             0              1   \n",
              "5746321   399             0              0             1              0   \n",
              "6361797   718             1              0             0              0   \n",
              "2247309   186             0              1             0              0   \n",
              "4692207   331             0              1             0              0   \n",
              "\n",
              "         type_DEBIT     amount  oldbalance_org  newbalance_orig  \\\n",
              "4051353           0  890577.21          218.00             0.00   \n",
              "5746321           0   97734.24      2096258.84       2193993.08   \n",
              "6361797           0    5907.41          315.00             0.00   \n",
              "2247309           0  187696.30        11057.00             0.00   \n",
              "4692207           0   82646.52            0.00             0.00   \n",
              "\n",
              "         oldbalance_dest  newbalance_dest  diff_new_old_balance  \\\n",
              "4051353             0.00        890577.21               -218.00   \n",
              "5746321        320136.00        222401.76              97734.24   \n",
              "6361797             0.00             0.00               -315.00   \n",
              "2247309       1798095.21       1985791.51             -11057.00   \n",
              "4692207       1047805.87       1130452.39                  0.00   \n",
              "\n",
              "         diff_new_old_destiny  \n",
              "4051353             890577.21  \n",
              "5746321             -97734.24  \n",
              "6361797                  0.00  \n",
              "2247309             187696.30  \n",
              "4692207              82646.52  "
            ]
          },
          "execution_count": 22,
          "metadata": {},
          "output_type": "execute_result"
        }
      ],
      "source": [
        "ohe = OneHotEncoder(cols=['type'], use_cat_names=True)\n",
        "\n",
        "X_train = ohe.fit_transform(X_train)\n",
        "X_test = ohe.transform(X_test)\n",
        "X_train.head()\n",
        "X_test.head()"
      ]
    },
    {
      "cell_type": "markdown",
      "metadata": {
        "hidden": true,
        "id": "k4Q5UIs60uMS"
      },
      "source": [
        "## 4.3 Rescaling"
      ]
    },
    {
      "cell_type": "code",
      "execution_count": 23,
      "metadata": {
        "ExecuteTime": {
          "end_time": "2021-01-11T18:49:00.603027Z",
          "start_time": "2021-01-11T18:48:59.044877Z"
        },
        "hidden": true,
        "id": "QBpoYsw70uMS"
      },
      "outputs": [],
      "source": [
        "num_columns = ['amount', 'oldbalance_org', 'newbalance_orig', 'oldbalance_dest', 'newbalance_dest',\n",
        "               'diff_new_old_balance', 'diff_new_old_destiny']\n",
        "mm = MinMaxScaler()\n",
        "X_params = X_train.copy()\n",
        "\n",
        "X_train[num_columns] = mm.fit_transform(X_train[num_columns])\n",
        "X_test[num_columns] = mm.transform(X_test[num_columns])\n",
        "\n",
        "X_params[num_columns] = mm.fit_transform(X_train[num_columns])\n",
        "X_test[num_columns] = mm.transform(X_test[num_columns])"
      ]
    },
    {
      "cell_type": "code",
      "execution_count": 24,
      "metadata": {},
      "outputs": [
        {
          "data": {
            "text/plain": [
              "['minmaxscaler_cycle1.joblib']"
            ]
          },
          "execution_count": 24,
          "metadata": {},
          "output_type": "execute_result"
        }
      ],
      "source": [
        "mm = MinMaxScaler()\n",
        "mm.fit(X_train[num_columns])\n",
        "\n",
        "joblib.dump(mm, 'minmaxscaler_cycle1.joblib')"
      ]
    },
    {
      "cell_type": "markdown",
      "metadata": {
        "heading_collapsed": true,
        "id": "4eaFdHn90uMS"
      },
      "source": [
        "# 5.0 Feature Selection"
      ]
    },
    {
      "cell_type": "code",
      "execution_count": 25,
      "metadata": {},
      "outputs": [
        {
          "data": {
            "text/html": [
              "<div>\n",
              "<style scoped>\n",
              "    .dataframe tbody tr th:only-of-type {\n",
              "        vertical-align: middle;\n",
              "    }\n",
              "\n",
              "    .dataframe tbody tr th {\n",
              "        vertical-align: top;\n",
              "    }\n",
              "\n",
              "    .dataframe thead th {\n",
              "        text-align: right;\n",
              "    }\n",
              "</style>\n",
              "<table border=\"1\" class=\"dataframe\">\n",
              "  <thead>\n",
              "    <tr style=\"text-align: right;\">\n",
              "      <th></th>\n",
              "      <th>step</th>\n",
              "      <th>type_PAYMENT</th>\n",
              "      <th>type_CASH_OUT</th>\n",
              "      <th>type_CASH_IN</th>\n",
              "      <th>type_TRANSFER</th>\n",
              "      <th>type_DEBIT</th>\n",
              "      <th>amount</th>\n",
              "      <th>oldbalance_org</th>\n",
              "      <th>newbalance_orig</th>\n",
              "      <th>oldbalance_dest</th>\n",
              "      <th>newbalance_dest</th>\n",
              "      <th>diff_new_old_balance</th>\n",
              "      <th>diff_new_old_destiny</th>\n",
              "    </tr>\n",
              "  </thead>\n",
              "  <tbody>\n",
              "    <tr>\n",
              "      <th>292779</th>\n",
              "      <td>15</td>\n",
              "      <td>1</td>\n",
              "      <td>0</td>\n",
              "      <td>0</td>\n",
              "      <td>0</td>\n",
              "      <td>0</td>\n",
              "      <td>0.000107</td>\n",
              "      <td>0.000743</td>\n",
              "      <td>0.000692</td>\n",
              "      <td>0.000000</td>\n",
              "      <td>0.000000</td>\n",
              "      <td>0.838427</td>\n",
              "      <td>0.109987</td>\n",
              "    </tr>\n",
              "    <tr>\n",
              "      <th>499763</th>\n",
              "      <td>20</td>\n",
              "      <td>1</td>\n",
              "      <td>0</td>\n",
              "      <td>0</td>\n",
              "      <td>0</td>\n",
              "      <td>0</td>\n",
              "      <td>0.000074</td>\n",
              "      <td>0.000000</td>\n",
              "      <td>0.000000</td>\n",
              "      <td>0.000000</td>\n",
              "      <td>0.000000</td>\n",
              "      <td>0.839259</td>\n",
              "      <td>0.109987</td>\n",
              "    </tr>\n",
              "    <tr>\n",
              "      <th>2970411</th>\n",
              "      <td>231</td>\n",
              "      <td>0</td>\n",
              "      <td>1</td>\n",
              "      <td>0</td>\n",
              "      <td>0</td>\n",
              "      <td>0</td>\n",
              "      <td>0.003907</td>\n",
              "      <td>0.000000</td>\n",
              "      <td>0.000000</td>\n",
              "      <td>0.001376</td>\n",
              "      <td>0.002389</td>\n",
              "      <td>0.839259</td>\n",
              "      <td>0.113029</td>\n",
              "    </tr>\n",
              "    <tr>\n",
              "      <th>3137549</th>\n",
              "      <td>236</td>\n",
              "      <td>1</td>\n",
              "      <td>0</td>\n",
              "      <td>0</td>\n",
              "      <td>0</td>\n",
              "      <td>0</td>\n",
              "      <td>0.000077</td>\n",
              "      <td>0.000000</td>\n",
              "      <td>0.000000</td>\n",
              "      <td>0.000000</td>\n",
              "      <td>0.000000</td>\n",
              "      <td>0.839259</td>\n",
              "      <td>0.109987</td>\n",
              "    </tr>\n",
              "    <tr>\n",
              "      <th>1500682</th>\n",
              "      <td>143</td>\n",
              "      <td>0</td>\n",
              "      <td>0</td>\n",
              "      <td>1</td>\n",
              "      <td>0</td>\n",
              "      <td>0</td>\n",
              "      <td>0.002358</td>\n",
              "      <td>0.218942</td>\n",
              "      <td>0.267494</td>\n",
              "      <td>0.006848</td>\n",
              "      <td>0.006233</td>\n",
              "      <td>0.857557</td>\n",
              "      <td>0.108151</td>\n",
              "    </tr>\n",
              "    <tr>\n",
              "      <th>...</th>\n",
              "      <td>...</td>\n",
              "      <td>...</td>\n",
              "      <td>...</td>\n",
              "      <td>...</td>\n",
              "      <td>...</td>\n",
              "      <td>...</td>\n",
              "      <td>...</td>\n",
              "      <td>...</td>\n",
              "      <td>...</td>\n",
              "      <td>...</td>\n",
              "      <td>...</td>\n",
              "      <td>...</td>\n",
              "      <td>...</td>\n",
              "    </tr>\n",
              "    <tr>\n",
              "      <th>1524870</th>\n",
              "      <td>153</td>\n",
              "      <td>1</td>\n",
              "      <td>0</td>\n",
              "      <td>0</td>\n",
              "      <td>0</td>\n",
              "      <td>0</td>\n",
              "      <td>0.000021</td>\n",
              "      <td>0.000000</td>\n",
              "      <td>0.000000</td>\n",
              "      <td>0.000000</td>\n",
              "      <td>0.000000</td>\n",
              "      <td>0.839259</td>\n",
              "      <td>0.109987</td>\n",
              "    </tr>\n",
              "    <tr>\n",
              "      <th>5834821</th>\n",
              "      <td>402</td>\n",
              "      <td>0</td>\n",
              "      <td>1</td>\n",
              "      <td>0</td>\n",
              "      <td>0</td>\n",
              "      <td>0</td>\n",
              "      <td>0.003755</td>\n",
              "      <td>0.001742</td>\n",
              "      <td>0.000000</td>\n",
              "      <td>0.000247</td>\n",
              "      <td>0.001221</td>\n",
              "      <td>0.830549</td>\n",
              "      <td>0.112910</td>\n",
              "    </tr>\n",
              "    <tr>\n",
              "      <th>4182953</th>\n",
              "      <td>304</td>\n",
              "      <td>1</td>\n",
              "      <td>0</td>\n",
              "      <td>0</td>\n",
              "      <td>0</td>\n",
              "      <td>0</td>\n",
              "      <td>0.000143</td>\n",
              "      <td>0.000000</td>\n",
              "      <td>0.000000</td>\n",
              "      <td>0.000000</td>\n",
              "      <td>0.000000</td>\n",
              "      <td>0.839259</td>\n",
              "      <td>0.109987</td>\n",
              "    </tr>\n",
              "    <tr>\n",
              "      <th>3985280</th>\n",
              "      <td>298</td>\n",
              "      <td>1</td>\n",
              "      <td>0</td>\n",
              "      <td>0</td>\n",
              "      <td>0</td>\n",
              "      <td>0</td>\n",
              "      <td>0.000261</td>\n",
              "      <td>0.000000</td>\n",
              "      <td>0.000000</td>\n",
              "      <td>0.000000</td>\n",
              "      <td>0.000000</td>\n",
              "      <td>0.839259</td>\n",
              "      <td>0.109987</td>\n",
              "    </tr>\n",
              "    <tr>\n",
              "      <th>1541412</th>\n",
              "      <td>154</td>\n",
              "      <td>1</td>\n",
              "      <td>0</td>\n",
              "      <td>0</td>\n",
              "      <td>0</td>\n",
              "      <td>0</td>\n",
              "      <td>0.000074</td>\n",
              "      <td>0.000000</td>\n",
              "      <td>0.000000</td>\n",
              "      <td>0.000000</td>\n",
              "      <td>0.000000</td>\n",
              "      <td>0.839259</td>\n",
              "      <td>0.109987</td>\n",
              "    </tr>\n",
              "  </tbody>\n",
              "</table>\n",
              "<p>5090096 rows × 13 columns</p>\n",
              "</div>"
            ],
            "text/plain": [
              "         step  type_PAYMENT  type_CASH_OUT  type_CASH_IN  type_TRANSFER  \\\n",
              "292779     15             1              0             0              0   \n",
              "499763     20             1              0             0              0   \n",
              "2970411   231             0              1             0              0   \n",
              "3137549   236             1              0             0              0   \n",
              "1500682   143             0              0             1              0   \n",
              "...       ...           ...            ...           ...            ...   \n",
              "1524870   153             1              0             0              0   \n",
              "5834821   402             0              1             0              0   \n",
              "4182953   304             1              0             0              0   \n",
              "3985280   298             1              0             0              0   \n",
              "1541412   154             1              0             0              0   \n",
              "\n",
              "         type_DEBIT    amount  oldbalance_org  newbalance_orig  \\\n",
              "292779            0  0.000107        0.000743         0.000692   \n",
              "499763            0  0.000074        0.000000         0.000000   \n",
              "2970411           0  0.003907        0.000000         0.000000   \n",
              "3137549           0  0.000077        0.000000         0.000000   \n",
              "1500682           0  0.002358        0.218942         0.267494   \n",
              "...             ...       ...             ...              ...   \n",
              "1524870           0  0.000021        0.000000         0.000000   \n",
              "5834821           0  0.003755        0.001742         0.000000   \n",
              "4182953           0  0.000143        0.000000         0.000000   \n",
              "3985280           0  0.000261        0.000000         0.000000   \n",
              "1541412           0  0.000074        0.000000         0.000000   \n",
              "\n",
              "         oldbalance_dest  newbalance_dest  diff_new_old_balance  \\\n",
              "292779          0.000000         0.000000              0.838427   \n",
              "499763          0.000000         0.000000              0.839259   \n",
              "2970411         0.001376         0.002389              0.839259   \n",
              "3137549         0.000000         0.000000              0.839259   \n",
              "1500682         0.006848         0.006233              0.857557   \n",
              "...                  ...              ...                   ...   \n",
              "1524870         0.000000         0.000000              0.839259   \n",
              "5834821         0.000247         0.001221              0.830549   \n",
              "4182953         0.000000         0.000000              0.839259   \n",
              "3985280         0.000000         0.000000              0.839259   \n",
              "1541412         0.000000         0.000000              0.839259   \n",
              "\n",
              "         diff_new_old_destiny  \n",
              "292779               0.109987  \n",
              "499763               0.109987  \n",
              "2970411              0.113029  \n",
              "3137549              0.109987  \n",
              "1500682              0.108151  \n",
              "...                       ...  \n",
              "1524870              0.109987  \n",
              "5834821              0.112910  \n",
              "4182953              0.109987  \n",
              "3985280              0.109987  \n",
              "1541412              0.109987  \n",
              "\n",
              "[5090096 rows x 13 columns]"
            ]
          },
          "execution_count": 25,
          "metadata": {},
          "output_type": "execute_result"
        }
      ],
      "source": [
        "X_train"
      ]
    },
    {
      "cell_type": "code",
      "execution_count": 26,
      "metadata": {
        "ExecuteTime": {
          "end_time": "2021-01-11T18:49:11.686754Z",
          "start_time": "2021-01-11T18:49:11.682897Z"
        },
        "hidden": true,
        "id": "9F2egAcK0uMT"
      },
      "outputs": [],
      "source": [
        "\n",
        "\n",
        "final_columns_selected = ['step', 'oldbalance_org', \n",
        "                          'newbalance_orig', 'newbalance_dest', \n",
        "                          'diff_new_old_balance', 'diff_new_old_destiny', \n",
        "                          'type_TRANSFER']\n",
        "\n"
      ]
    },
    {
      "cell_type": "markdown",
      "metadata": {
        "heading_collapsed": true,
        "id": "u_2ZWB7N0uMT"
      },
      "source": [
        "# 6.0 Machine Learning Modeling"
      ]
    },
    {
      "cell_type": "code",
      "execution_count": 27,
      "metadata": {
        "ExecuteTime": {
          "end_time": "2021-01-11T18:49:15.589482Z",
          "start_time": "2021-01-11T18:49:15.542574Z"
        },
        "hidden": true,
        "id": "ERhro45U0uMU"
      },
      "outputs": [],
      "source": [
        "X_train_cs = X_train[final_columns_selected]\n",
        "\n",
        "X_test_cs = X_test[final_columns_selected]\n",
        "\n",
        "X_params_cs = X_params[final_columns_selected]"
      ]
    },
    {
      "cell_type": "code",
      "execution_count": 28,
      "metadata": {},
      "outputs": [
        {
          "data": {
            "text/html": [
              "<div>\n",
              "<style scoped>\n",
              "    .dataframe tbody tr th:only-of-type {\n",
              "        vertical-align: middle;\n",
              "    }\n",
              "\n",
              "    .dataframe tbody tr th {\n",
              "        vertical-align: top;\n",
              "    }\n",
              "\n",
              "    .dataframe thead th {\n",
              "        text-align: right;\n",
              "    }\n",
              "</style>\n",
              "<table border=\"1\" class=\"dataframe\">\n",
              "  <thead>\n",
              "    <tr style=\"text-align: right;\">\n",
              "      <th></th>\n",
              "      <th>step</th>\n",
              "      <th>oldbalance_org</th>\n",
              "      <th>newbalance_orig</th>\n",
              "      <th>newbalance_dest</th>\n",
              "      <th>diff_new_old_balance</th>\n",
              "      <th>diff_new_old_destiny</th>\n",
              "      <th>type_TRANSFER</th>\n",
              "    </tr>\n",
              "  </thead>\n",
              "  <tbody>\n",
              "    <tr>\n",
              "      <th>292779</th>\n",
              "      <td>15</td>\n",
              "      <td>0.000743</td>\n",
              "      <td>0.000692</td>\n",
              "      <td>0.000000</td>\n",
              "      <td>0.838427</td>\n",
              "      <td>0.109987</td>\n",
              "      <td>0</td>\n",
              "    </tr>\n",
              "    <tr>\n",
              "      <th>499763</th>\n",
              "      <td>20</td>\n",
              "      <td>0.000000</td>\n",
              "      <td>0.000000</td>\n",
              "      <td>0.000000</td>\n",
              "      <td>0.839259</td>\n",
              "      <td>0.109987</td>\n",
              "      <td>0</td>\n",
              "    </tr>\n",
              "    <tr>\n",
              "      <th>2970411</th>\n",
              "      <td>231</td>\n",
              "      <td>0.000000</td>\n",
              "      <td>0.000000</td>\n",
              "      <td>0.002389</td>\n",
              "      <td>0.839259</td>\n",
              "      <td>0.113029</td>\n",
              "      <td>0</td>\n",
              "    </tr>\n",
              "    <tr>\n",
              "      <th>3137549</th>\n",
              "      <td>236</td>\n",
              "      <td>0.000000</td>\n",
              "      <td>0.000000</td>\n",
              "      <td>0.000000</td>\n",
              "      <td>0.839259</td>\n",
              "      <td>0.109987</td>\n",
              "      <td>0</td>\n",
              "    </tr>\n",
              "    <tr>\n",
              "      <th>1500682</th>\n",
              "      <td>143</td>\n",
              "      <td>0.218942</td>\n",
              "      <td>0.267494</td>\n",
              "      <td>0.006233</td>\n",
              "      <td>0.857557</td>\n",
              "      <td>0.108151</td>\n",
              "      <td>0</td>\n",
              "    </tr>\n",
              "  </tbody>\n",
              "</table>\n",
              "</div>"
            ],
            "text/plain": [
              "         step  oldbalance_org  newbalance_orig  newbalance_dest  \\\n",
              "292779     15        0.000743         0.000692         0.000000   \n",
              "499763     20        0.000000         0.000000         0.000000   \n",
              "2970411   231        0.000000         0.000000         0.002389   \n",
              "3137549   236        0.000000         0.000000         0.000000   \n",
              "1500682   143        0.218942         0.267494         0.006233   \n",
              "\n",
              "         diff_new_old_balance  diff_new_old_destiny  type_TRANSFER  \n",
              "292779               0.838427              0.109987              0  \n",
              "499763               0.839259              0.109987              0  \n",
              "2970411              0.839259              0.113029              0  \n",
              "3137549              0.839259              0.109987              0  \n",
              "1500682              0.857557              0.108151              0  "
            ]
          },
          "execution_count": 28,
          "metadata": {},
          "output_type": "execute_result"
        }
      ],
      "source": [
        "X_params_cs.head()"
      ]
    },
    {
      "cell_type": "markdown",
      "metadata": {
        "hidden": true,
        "id": "apVOG-4X0uMX"
      },
      "source": [
        "## 6.1 Logistic Regression"
      ]
    },
    {
      "cell_type": "code",
      "execution_count": 29,
      "metadata": {
        "id": "4yEo9k9aTFil"
      },
      "outputs": [],
      "source": [
        "def ml_scores(model_name, y_true, y_pred,y_probs):\n",
        "\n",
        "    accuracy = balanced_accuracy_score(y_true, y_pred)\n",
        "    precision = precision_score(y_true, y_pred)\n",
        "    recall = recall_score(y_true, y_pred)\n",
        "    f1 = f1_score(y_true, y_pred)\n",
        "    auc= roc_auc_score(y_test,y_probs[:,1])\n",
        "\n",
        "    return pd.DataFrame({'Balanced Accuracy':accuracy,\n",
        "                         'Precision': precision,\n",
        "                         'Recall': recall,\n",
        "                         'F1': f1,\n",
        "                         'auc': auc},\n",
        "                        index=[model_name])\n"
      ]
    },
    {
      "cell_type": "code",
      "execution_count": 30,
      "metadata": {
        "ExecuteTime": {
          "end_time": "2021-01-11T18:49:26.692331Z",
          "start_time": "2021-01-11T18:49:20.044652Z"
        },
        "hidden": true,
        "id": "VHs9wGvK0uMY"
      },
      "outputs": [],
      "source": [
        "lg = LogisticRegression()\n",
        "lg.fit(X_train_cs, y_train)\n",
        "\n",
        "y_pred = lg.predict(X_test_cs)\n",
        "y_probs = lg.predict_proba(X_test_cs)"
      ]
    },
    {
      "cell_type": "code",
      "execution_count": 31,
      "metadata": {
        "colab": {
          "base_uri": "https://localhost:8080/",
          "height": 81
        },
        "id": "6XtwBTTtUPoz",
        "outputId": "038294bd-73e8-4355-ba5e-29756e9865a1"
      },
      "outputs": [
        {
          "data": {
            "text/html": [
              "<div>\n",
              "<style scoped>\n",
              "    .dataframe tbody tr th:only-of-type {\n",
              "        vertical-align: middle;\n",
              "    }\n",
              "\n",
              "    .dataframe tbody tr th {\n",
              "        vertical-align: top;\n",
              "    }\n",
              "\n",
              "    .dataframe thead th {\n",
              "        text-align: right;\n",
              "    }\n",
              "</style>\n",
              "<table border=\"1\" class=\"dataframe\">\n",
              "  <thead>\n",
              "    <tr style=\"text-align: right;\">\n",
              "      <th></th>\n",
              "      <th>Balanced Accuracy</th>\n",
              "      <th>Precision</th>\n",
              "      <th>Recall</th>\n",
              "      <th>F1</th>\n",
              "      <th>auc</th>\n",
              "    </tr>\n",
              "  </thead>\n",
              "  <tbody>\n",
              "    <tr>\n",
              "      <th>Logistic Regression</th>\n",
              "      <td>0.657321</td>\n",
              "      <td>0.94</td>\n",
              "      <td>0.314668</td>\n",
              "      <td>0.4715</td>\n",
              "      <td>0.943923</td>\n",
              "    </tr>\n",
              "  </tbody>\n",
              "</table>\n",
              "</div>"
            ],
            "text/plain": [
              "                     Balanced Accuracy  Precision    Recall      F1       auc\n",
              "Logistic Regression           0.657321       0.94  0.314668  0.4715  0.943923"
            ]
          },
          "execution_count": 31,
          "metadata": {},
          "output_type": "execute_result"
        }
      ],
      "source": [
        "\n",
        "lg_results = ml_scores('Logistic Regression', y_test, y_pred,y_probs)\n",
        "lg_results\n"
      ]
    },
    {
      "cell_type": "markdown",
      "metadata": {
        "hidden": true,
        "id": "FnGcNkE70uMZ"
      },
      "source": [
        "### 6.1.1 Classification Report"
      ]
    },
    {
      "cell_type": "code",
      "execution_count": 32,
      "metadata": {
        "ExecuteTime": {
          "end_time": "2021-01-11T18:49:27.359204Z",
          "start_time": "2021-01-11T18:49:27.138782Z"
        },
        "colab": {
          "base_uri": "https://localhost:8080/"
        },
        "hidden": true,
        "id": "reo9SebM0uMZ",
        "outputId": "c5d78fff-f65d-4693-fd3c-7c7a3de97f94"
      },
      "outputs": [
        {
          "name": "stdout",
          "output_type": "stream",
          "text": [
            "              precision    recall  f1-score   support\n",
            "\n",
            "           0       1.00      1.00      1.00   1270881\n",
            "           1       0.94      0.31      0.47      1643\n",
            "\n",
            "    accuracy                           1.00   1272524\n",
            "   macro avg       0.97      0.66      0.74   1272524\n",
            "weighted avg       1.00      1.00      1.00   1272524\n",
            "\n"
          ]
        }
      ],
      "source": [
        "print(classification_report(y_test, y_pred))"
      ]
    },
    {
      "cell_type": "markdown",
      "metadata": {
        "hidden": true,
        "id": "np2-mHkP0uMb"
      },
      "source": [
        "## 6.2 K Nearest Neighbors"
      ]
    },
    {
      "cell_type": "code",
      "execution_count": 33,
      "metadata": {
        "ExecuteTime": {
          "end_time": "2021-01-11T18:49:57.229314Z",
          "start_time": "2021-01-11T18:49:45.059296Z"
        },
        "hidden": true,
        "id": "Ee5PoNnf0uMc"
      },
      "outputs": [],
      "source": [
        "knn = KNeighborsClassifier()\n",
        "knn.fit(X_train_cs, y_train)\n",
        "\n",
        "y_pred = knn.predict(X_test_cs)\n",
        "y_probs = knn.predict_proba(X_test_cs)"
      ]
    },
    {
      "cell_type": "code",
      "execution_count": 34,
      "metadata": {
        "colab": {
          "base_uri": "https://localhost:8080/",
          "height": 81
        },
        "id": "8h6gUkgaUpov",
        "outputId": "0c03ed50-df62-4355-90da-5ce2063b9dfc"
      },
      "outputs": [
        {
          "data": {
            "text/html": [
              "<div>\n",
              "<style scoped>\n",
              "    .dataframe tbody tr th:only-of-type {\n",
              "        vertical-align: middle;\n",
              "    }\n",
              "\n",
              "    .dataframe tbody tr th {\n",
              "        vertical-align: top;\n",
              "    }\n",
              "\n",
              "    .dataframe thead th {\n",
              "        text-align: right;\n",
              "    }\n",
              "</style>\n",
              "<table border=\"1\" class=\"dataframe\">\n",
              "  <thead>\n",
              "    <tr style=\"text-align: right;\">\n",
              "      <th></th>\n",
              "      <th>Balanced Accuracy</th>\n",
              "      <th>Precision</th>\n",
              "      <th>Recall</th>\n",
              "      <th>F1</th>\n",
              "      <th>auc</th>\n",
              "    </tr>\n",
              "  </thead>\n",
              "  <tbody>\n",
              "    <tr>\n",
              "      <th>K Nearest Neighbors</th>\n",
              "      <td>0.761105</td>\n",
              "      <td>0.990762</td>\n",
              "      <td>0.522215</td>\n",
              "      <td>0.683938</td>\n",
              "      <td>0.866479</td>\n",
              "    </tr>\n",
              "  </tbody>\n",
              "</table>\n",
              "</div>"
            ],
            "text/plain": [
              "                     Balanced Accuracy  Precision    Recall        F1  \\\n",
              "K Nearest Neighbors           0.761105   0.990762  0.522215  0.683938   \n",
              "\n",
              "                          auc  \n",
              "K Nearest Neighbors  0.866479  "
            ]
          },
          "execution_count": 34,
          "metadata": {},
          "output_type": "execute_result"
        }
      ],
      "source": [
        "knn_results = ml_scores('K Nearest Neighbors', y_test, y_pred,y_probs)\n",
        "knn_results"
      ]
    },
    {
      "cell_type": "markdown",
      "metadata": {
        "hidden": true,
        "id": "JBg10oHd0uMc"
      },
      "source": [
        "### 6.2.1 Classification Report"
      ]
    },
    {
      "cell_type": "code",
      "execution_count": 35,
      "metadata": {
        "ExecuteTime": {
          "end_time": "2021-01-11T18:49:57.762156Z",
          "start_time": "2021-01-11T18:49:57.586973Z"
        },
        "colab": {
          "base_uri": "https://localhost:8080/"
        },
        "hidden": true,
        "id": "Xh48347H0uMc",
        "outputId": "2f175770-4678-4477-ff91-ed5b5b44ed8e"
      },
      "outputs": [
        {
          "name": "stdout",
          "output_type": "stream",
          "text": [
            "              precision    recall  f1-score   support\n",
            "\n",
            "           0       1.00      1.00      1.00   1270881\n",
            "           1       0.99      0.52      0.68      1643\n",
            "\n",
            "    accuracy                           1.00   1272524\n",
            "   macro avg       1.00      0.76      0.84   1272524\n",
            "weighted avg       1.00      1.00      1.00   1272524\n",
            "\n"
          ]
        }
      ],
      "source": [
        "print(classification_report(y_test, y_pred))"
      ]
    },
    {
      "cell_type": "markdown",
      "metadata": {
        "hidden": true,
        "id": "Tb_UjDh40uMe"
      },
      "source": [
        "## 6.3 Random Forest"
      ]
    },
    {
      "cell_type": "code",
      "execution_count": 36,
      "metadata": {
        "ExecuteTime": {
          "end_time": "2021-01-11T19:10:42.703370Z",
          "start_time": "2021-01-11T19:09:56.805739Z"
        },
        "hidden": true,
        "id": "5UZoCC-30uMe"
      },
      "outputs": [],
      "source": [
        "rf = RandomForestClassifier(class_weight='balanced')\n",
        "rf.fit(X_train_cs, y_train)\n",
        "\n",
        "y_pred = rf.predict(X_test_cs)\n",
        "y_probs = rf.predict_proba(X_test_cs)\n"
      ]
    },
    {
      "cell_type": "code",
      "execution_count": 37,
      "metadata": {
        "colab": {
          "base_uri": "https://localhost:8080/",
          "height": 81
        },
        "id": "CNS4IL_DVAbG",
        "outputId": "174ecd18-7831-442b-eef9-d038e33dbd02"
      },
      "outputs": [
        {
          "data": {
            "text/html": [
              "<div>\n",
              "<style scoped>\n",
              "    .dataframe tbody tr th:only-of-type {\n",
              "        vertical-align: middle;\n",
              "    }\n",
              "\n",
              "    .dataframe tbody tr th {\n",
              "        vertical-align: top;\n",
              "    }\n",
              "\n",
              "    .dataframe thead th {\n",
              "        text-align: right;\n",
              "    }\n",
              "</style>\n",
              "<table border=\"1\" class=\"dataframe\">\n",
              "  <thead>\n",
              "    <tr style=\"text-align: right;\">\n",
              "      <th></th>\n",
              "      <th>Balanced Accuracy</th>\n",
              "      <th>Precision</th>\n",
              "      <th>Recall</th>\n",
              "      <th>F1</th>\n",
              "      <th>auc</th>\n",
              "    </tr>\n",
              "  </thead>\n",
              "  <tbody>\n",
              "    <tr>\n",
              "      <th>Random Forest</th>\n",
              "      <td>0.902297</td>\n",
              "      <td>0.970631</td>\n",
              "      <td>0.804626</td>\n",
              "      <td>0.879867</td>\n",
              "      <td>0.991285</td>\n",
              "    </tr>\n",
              "  </tbody>\n",
              "</table>\n",
              "</div>"
            ],
            "text/plain": [
              "               Balanced Accuracy  Precision    Recall        F1       auc\n",
              "Random Forest           0.902297   0.970631  0.804626  0.879867  0.991285"
            ]
          },
          "execution_count": 37,
          "metadata": {},
          "output_type": "execute_result"
        }
      ],
      "source": [
        "rf_results = ml_scores('Random Forest', y_test, y_pred,y_probs)\n",
        "rf_results"
      ]
    },
    {
      "cell_type": "markdown",
      "metadata": {
        "hidden": true,
        "id": "DBuV7tbp0uMf"
      },
      "source": [
        "### 6.3.1 Classification Report"
      ]
    },
    {
      "cell_type": "code",
      "execution_count": 38,
      "metadata": {
        "ExecuteTime": {
          "end_time": "2021-01-11T19:10:43.220005Z",
          "start_time": "2021-01-11T19:10:43.043253Z"
        },
        "colab": {
          "base_uri": "https://localhost:8080/"
        },
        "hidden": true,
        "id": "AffS9aJI0uMf",
        "outputId": "27012455-00c0-4329-fc67-80f3491a0084"
      },
      "outputs": [
        {
          "name": "stdout",
          "output_type": "stream",
          "text": [
            "              precision    recall  f1-score   support\n",
            "\n",
            "           0       1.00      1.00      1.00   1270881\n",
            "           1       0.97      0.80      0.88      1643\n",
            "\n",
            "    accuracy                           1.00   1272524\n",
            "   macro avg       0.99      0.90      0.94   1272524\n",
            "weighted avg       1.00      1.00      1.00   1272524\n",
            "\n"
          ]
        }
      ],
      "source": [
        "print(classification_report(y_test, y_pred))"
      ]
    },
    {
      "cell_type": "markdown",
      "metadata": {
        "hidden": true,
        "id": "50QQo5zV0uMk"
      },
      "source": [
        "## 6.4 XGBoost"
      ]
    },
    {
      "cell_type": "code",
      "execution_count": 39,
      "metadata": {
        "ExecuteTime": {
          "end_time": "2021-01-11T19:17:29.668827Z",
          "start_time": "2021-01-11T19:17:03.475475Z"
        },
        "hidden": true,
        "id": "wu6Y_cZS0uMl"
      },
      "outputs": [],
      "source": [
        "xgb = XGBClassifier()\n",
        "xgb.fit(X_train_cs, y_train)\n",
        "\n",
        "y_pred = xgb.predict(X_test_cs)\n",
        "y_probs = xgb.predict_proba(X_test_cs)"
      ]
    },
    {
      "cell_type": "code",
      "execution_count": 40,
      "metadata": {
        "colab": {
          "base_uri": "https://localhost:8080/",
          "height": 81
        },
        "id": "8tDgK5B4VJX5",
        "outputId": "9e52d14a-e92e-4346-96ed-d7b260f924f8"
      },
      "outputs": [
        {
          "data": {
            "text/html": [
              "<div>\n",
              "<style scoped>\n",
              "    .dataframe tbody tr th:only-of-type {\n",
              "        vertical-align: middle;\n",
              "    }\n",
              "\n",
              "    .dataframe tbody tr th {\n",
              "        vertical-align: top;\n",
              "    }\n",
              "\n",
              "    .dataframe thead th {\n",
              "        text-align: right;\n",
              "    }\n",
              "</style>\n",
              "<table border=\"1\" class=\"dataframe\">\n",
              "  <thead>\n",
              "    <tr style=\"text-align: right;\">\n",
              "      <th></th>\n",
              "      <th>Balanced Accuracy</th>\n",
              "      <th>Precision</th>\n",
              "      <th>Recall</th>\n",
              "      <th>F1</th>\n",
              "      <th>auc</th>\n",
              "    </tr>\n",
              "  </thead>\n",
              "  <tbody>\n",
              "    <tr>\n",
              "      <th>XGB</th>\n",
              "      <td>0.920855</td>\n",
              "      <td>0.961752</td>\n",
              "      <td>0.841753</td>\n",
              "      <td>0.89776</td>\n",
              "      <td>0.999075</td>\n",
              "    </tr>\n",
              "  </tbody>\n",
              "</table>\n",
              "</div>"
            ],
            "text/plain": [
              "     Balanced Accuracy  Precision    Recall       F1       auc\n",
              "XGB           0.920855   0.961752  0.841753  0.89776  0.999075"
            ]
          },
          "execution_count": 40,
          "metadata": {},
          "output_type": "execute_result"
        }
      ],
      "source": [
        "xgb_results = ml_scores('XGB', y_test, y_pred,y_probs)\n",
        "xgb_results"
      ]
    },
    {
      "cell_type": "markdown",
      "metadata": {
        "hidden": true,
        "id": "25gJxlpv0uMl"
      },
      "source": [
        "### 6.4.1 Classification Report"
      ]
    },
    {
      "cell_type": "code",
      "execution_count": 41,
      "metadata": {
        "ExecuteTime": {
          "end_time": "2021-01-11T19:17:30.279678Z",
          "start_time": "2021-01-11T19:17:30.052006Z"
        },
        "colab": {
          "base_uri": "https://localhost:8080/"
        },
        "hidden": true,
        "id": "IYpiYB7Z0uMl",
        "outputId": "cfaf198c-fea5-441b-c7fe-924848481715"
      },
      "outputs": [
        {
          "name": "stdout",
          "output_type": "stream",
          "text": [
            "              precision    recall  f1-score   support\n",
            "\n",
            "           0       1.00      1.00      1.00   1270881\n",
            "           1       0.96      0.84      0.90      1643\n",
            "\n",
            "    accuracy                           1.00   1272524\n",
            "   macro avg       0.98      0.92      0.95   1272524\n",
            "weighted avg       1.00      1.00      1.00   1272524\n",
            "\n"
          ]
        }
      ],
      "source": [
        "print(classification_report(y_test, y_pred))"
      ]
    },
    {
      "cell_type": "markdown",
      "metadata": {
        "hidden": true,
        "id": "AOMnagDB0uMn"
      },
      "source": [
        "### 6.5  Performance"
      ]
    },
    {
      "cell_type": "code",
      "execution_count": 42,
      "metadata": {
        "colab": {
          "base_uri": "https://localhost:8080/",
          "height": 175
        },
        "id": "NYyviPNaT1pr",
        "outputId": "51053dcd-477f-4d2d-d45b-9b5cf16dd9c3"
      },
      "outputs": [
        {
          "data": {
            "text/html": [
              "<div>\n",
              "<style scoped>\n",
              "    .dataframe tbody tr th:only-of-type {\n",
              "        vertical-align: middle;\n",
              "    }\n",
              "\n",
              "    .dataframe tbody tr th {\n",
              "        vertical-align: top;\n",
              "    }\n",
              "\n",
              "    .dataframe thead th {\n",
              "        text-align: right;\n",
              "    }\n",
              "</style>\n",
              "<table border=\"1\" class=\"dataframe\">\n",
              "  <thead>\n",
              "    <tr style=\"text-align: right;\">\n",
              "      <th></th>\n",
              "      <th>Balanced Accuracy</th>\n",
              "      <th>Precision</th>\n",
              "      <th>Recall</th>\n",
              "      <th>F1</th>\n",
              "      <th>auc</th>\n",
              "    </tr>\n",
              "  </thead>\n",
              "  <tbody>\n",
              "    <tr>\n",
              "      <th>XGB</th>\n",
              "      <td>0.920855</td>\n",
              "      <td>0.961752</td>\n",
              "      <td>0.841753</td>\n",
              "      <td>0.897760</td>\n",
              "      <td>0.999075</td>\n",
              "    </tr>\n",
              "    <tr>\n",
              "      <th>Random Forest</th>\n",
              "      <td>0.902297</td>\n",
              "      <td>0.970631</td>\n",
              "      <td>0.804626</td>\n",
              "      <td>0.879867</td>\n",
              "      <td>0.991285</td>\n",
              "    </tr>\n",
              "    <tr>\n",
              "      <th>Logistic Regression</th>\n",
              "      <td>0.657321</td>\n",
              "      <td>0.940000</td>\n",
              "      <td>0.314668</td>\n",
              "      <td>0.471500</td>\n",
              "      <td>0.943923</td>\n",
              "    </tr>\n",
              "    <tr>\n",
              "      <th>K Nearest Neighbors</th>\n",
              "      <td>0.761105</td>\n",
              "      <td>0.990762</td>\n",
              "      <td>0.522215</td>\n",
              "      <td>0.683938</td>\n",
              "      <td>0.866479</td>\n",
              "    </tr>\n",
              "  </tbody>\n",
              "</table>\n",
              "</div>"
            ],
            "text/plain": [
              "                     Balanced Accuracy  Precision    Recall        F1  \\\n",
              "XGB                           0.920855   0.961752  0.841753  0.897760   \n",
              "Random Forest                 0.902297   0.970631  0.804626  0.879867   \n",
              "Logistic Regression           0.657321   0.940000  0.314668  0.471500   \n",
              "K Nearest Neighbors           0.761105   0.990762  0.522215  0.683938   \n",
              "\n",
              "                          auc  \n",
              "XGB                  0.999075  \n",
              "Random Forest        0.991285  \n",
              "Logistic Regression  0.943923  \n",
              "K Nearest Neighbors  0.866479  "
            ]
          },
          "execution_count": 42,
          "metadata": {},
          "output_type": "execute_result"
        }
      ],
      "source": [
        "modeling_performance = pd.concat([lg_results, knn_results,rf_results, xgb_results,])\n",
        "modeling_performance.sort_values(by=\"auc\", ascending=False)"
      ]
    },
    {
      "cell_type": "markdown",
      "metadata": {
        "heading_collapsed": true,
        "id": "IXIvs1rX0uMo"
      },
      "source": [
        "# 7.0 Hyperparameter Fine Tuning"
      ]
    },
    {
      "cell_type": "code",
      "execution_count": 43,
      "metadata": {
        "ExecuteTime": {
          "end_time": "2021-01-11T19:22:05.640133Z",
          "start_time": "2021-01-11T19:22:05.633309Z"
        },
        "hidden": true,
        "id": "8fsgS1uG0uMo"
      },
      "outputs": [],
      "source": [
        "auc = make_scorer(roc_auc_score)"
      ]
    },
    {
      "cell_type": "code",
      "execution_count": 44,
      "metadata": {
        "ExecuteTime": {
          "end_time": "2021-01-11T20:55:31.712716Z",
          "start_time": "2021-01-11T20:55:31.709317Z"
        },
        "hidden": true,
        "id": "cVRJqzqU0uMp"
      },
      "outputs": [],
      "source": [
        "best_params = {'booster': 'gbtree', 'eta': 0.3, 'scale_pos_weight': 1}"
      ]
    },
    {
      "cell_type": "markdown",
      "metadata": {
        "hidden": true,
        "id": "rE-ATrzh0uMp"
      },
      "source": [
        "## 8 Results"
      ]
    },
    {
      "cell_type": "code",
      "execution_count": 45,
      "metadata": {
        "ExecuteTime": {
          "end_time": "2021-01-11T20:55:31.724999Z",
          "start_time": "2021-01-11T20:55:31.722348Z"
        },
        "hidden": true,
        "id": "CmQpayl70uMp"
      },
      "outputs": [],
      "source": [
        "xgb_gs = XGBClassifier(\n",
        "    booster=best_params['booster'],\n",
        "    eta=best_params['eta'],\n",
        "    scale_pos_weight=best_params['scale_pos_weight']\n",
        ")"
      ]
    },
    {
      "cell_type": "code",
      "execution_count": 46,
      "metadata": {
        "ExecuteTime": {
          "end_time": "2021-01-11T20:55:52.745584Z",
          "start_time": "2021-01-11T20:55:31.726949Z"
        },
        "colab": {
          "base_uri": "https://localhost:8080/",
          "height": 248
        },
        "hidden": true,
        "id": "0hKNMm4c0uMp",
        "outputId": "c1c360be-cdee-4600-ee18-fc10906e6adb"
      },
      "outputs": [
        {
          "data": {
            "text/html": [
              "<style>#sk-container-id-1 {color: black;}#sk-container-id-1 pre{padding: 0;}#sk-container-id-1 div.sk-toggleable {background-color: white;}#sk-container-id-1 label.sk-toggleable__label {cursor: pointer;display: block;width: 100%;margin-bottom: 0;padding: 0.3em;box-sizing: border-box;text-align: center;}#sk-container-id-1 label.sk-toggleable__label-arrow:before {content: \"▸\";float: left;margin-right: 0.25em;color: #696969;}#sk-container-id-1 label.sk-toggleable__label-arrow:hover:before {color: black;}#sk-container-id-1 div.sk-estimator:hover label.sk-toggleable__label-arrow:before {color: black;}#sk-container-id-1 div.sk-toggleable__content {max-height: 0;max-width: 0;overflow: hidden;text-align: left;background-color: #f0f8ff;}#sk-container-id-1 div.sk-toggleable__content pre {margin: 0.2em;color: black;border-radius: 0.25em;background-color: #f0f8ff;}#sk-container-id-1 input.sk-toggleable__control:checked~div.sk-toggleable__content {max-height: 200px;max-width: 100%;overflow: auto;}#sk-container-id-1 input.sk-toggleable__control:checked~label.sk-toggleable__label-arrow:before {content: \"▾\";}#sk-container-id-1 div.sk-estimator input.sk-toggleable__control:checked~label.sk-toggleable__label {background-color: #d4ebff;}#sk-container-id-1 div.sk-label input.sk-toggleable__control:checked~label.sk-toggleable__label {background-color: #d4ebff;}#sk-container-id-1 input.sk-hidden--visually {border: 0;clip: rect(1px 1px 1px 1px);clip: rect(1px, 1px, 1px, 1px);height: 1px;margin: -1px;overflow: hidden;padding: 0;position: absolute;width: 1px;}#sk-container-id-1 div.sk-estimator {font-family: monospace;background-color: #f0f8ff;border: 1px dotted black;border-radius: 0.25em;box-sizing: border-box;margin-bottom: 0.5em;}#sk-container-id-1 div.sk-estimator:hover {background-color: #d4ebff;}#sk-container-id-1 div.sk-parallel-item::after {content: \"\";width: 100%;border-bottom: 1px solid gray;flex-grow: 1;}#sk-container-id-1 div.sk-label:hover label.sk-toggleable__label {background-color: #d4ebff;}#sk-container-id-1 div.sk-serial::before {content: \"\";position: absolute;border-left: 1px solid gray;box-sizing: border-box;top: 0;bottom: 0;left: 50%;z-index: 0;}#sk-container-id-1 div.sk-serial {display: flex;flex-direction: column;align-items: center;background-color: white;padding-right: 0.2em;padding-left: 0.2em;position: relative;}#sk-container-id-1 div.sk-item {position: relative;z-index: 1;}#sk-container-id-1 div.sk-parallel {display: flex;align-items: stretch;justify-content: center;background-color: white;position: relative;}#sk-container-id-1 div.sk-item::before, #sk-container-id-1 div.sk-parallel-item::before {content: \"\";position: absolute;border-left: 1px solid gray;box-sizing: border-box;top: 0;bottom: 0;left: 50%;z-index: -1;}#sk-container-id-1 div.sk-parallel-item {display: flex;flex-direction: column;z-index: 1;position: relative;background-color: white;}#sk-container-id-1 div.sk-parallel-item:first-child::after {align-self: flex-end;width: 50%;}#sk-container-id-1 div.sk-parallel-item:last-child::after {align-self: flex-start;width: 50%;}#sk-container-id-1 div.sk-parallel-item:only-child::after {width: 0;}#sk-container-id-1 div.sk-dashed-wrapped {border: 1px dashed gray;margin: 0 0.4em 0.5em 0.4em;box-sizing: border-box;padding-bottom: 0.4em;background-color: white;}#sk-container-id-1 div.sk-label label {font-family: monospace;font-weight: bold;display: inline-block;line-height: 1.2em;}#sk-container-id-1 div.sk-label-container {text-align: center;}#sk-container-id-1 div.sk-container {/* jupyter's `normalize.less` sets `[hidden] { display: none; }` but bootstrap.min.css set `[hidden] { display: none !important; }` so we also need the `!important` here to be able to override the default hidden behavior on the sphinx rendered scikit-learn.org. See: https://github.com/scikit-learn/scikit-learn/issues/21755 */display: inline-block !important;position: relative;}#sk-container-id-1 div.sk-text-repr-fallback {display: none;}</style><div id=\"sk-container-id-1\" class=\"sk-top-container\"><div class=\"sk-text-repr-fallback\"><pre>XGBClassifier(base_score=None, booster=&#x27;gbtree&#x27;, callbacks=None,\n",
              "              colsample_bylevel=None, colsample_bynode=None,\n",
              "              colsample_bytree=None, device=None, early_stopping_rounds=None,\n",
              "              enable_categorical=False, eta=0.3, eval_metric=None,\n",
              "              feature_types=None, gamma=None, grow_policy=None,\n",
              "              importance_type=None, interaction_constraints=None,\n",
              "              learning_rate=None, max_bin=None, max_cat_threshold=None,\n",
              "              max_cat_to_onehot=None, max_delta_step=None, max_depth=None,\n",
              "              max_leaves=None, min_child_weight=None, missing=nan,\n",
              "              monotone_constraints=None, multi_strategy=None, n_estimators=None,\n",
              "              n_jobs=None, num_parallel_tree=None, ...)</pre><b>In a Jupyter environment, please rerun this cell to show the HTML representation or trust the notebook. <br />On GitHub, the HTML representation is unable to render, please try loading this page with nbviewer.org.</b></div><div class=\"sk-container\" hidden><div class=\"sk-item\"><div class=\"sk-estimator sk-toggleable\"><input class=\"sk-toggleable__control sk-hidden--visually\" id=\"sk-estimator-id-1\" type=\"checkbox\" checked><label for=\"sk-estimator-id-1\" class=\"sk-toggleable__label sk-toggleable__label-arrow\">XGBClassifier</label><div class=\"sk-toggleable__content\"><pre>XGBClassifier(base_score=None, booster=&#x27;gbtree&#x27;, callbacks=None,\n",
              "              colsample_bylevel=None, colsample_bynode=None,\n",
              "              colsample_bytree=None, device=None, early_stopping_rounds=None,\n",
              "              enable_categorical=False, eta=0.3, eval_metric=None,\n",
              "              feature_types=None, gamma=None, grow_policy=None,\n",
              "              importance_type=None, interaction_constraints=None,\n",
              "              learning_rate=None, max_bin=None, max_cat_threshold=None,\n",
              "              max_cat_to_onehot=None, max_delta_step=None, max_depth=None,\n",
              "              max_leaves=None, min_child_weight=None, missing=nan,\n",
              "              monotone_constraints=None, multi_strategy=None, n_estimators=None,\n",
              "              n_jobs=None, num_parallel_tree=None, ...)</pre></div></div></div></div></div>"
            ],
            "text/plain": [
              "XGBClassifier(base_score=None, booster='gbtree', callbacks=None,\n",
              "              colsample_bylevel=None, colsample_bynode=None,\n",
              "              colsample_bytree=None, device=None, early_stopping_rounds=None,\n",
              "              enable_categorical=False, eta=0.3, eval_metric=None,\n",
              "              feature_types=None, gamma=None, grow_policy=None,\n",
              "              importance_type=None, interaction_constraints=None,\n",
              "              learning_rate=None, max_bin=None, max_cat_threshold=None,\n",
              "              max_cat_to_onehot=None, max_delta_step=None, max_depth=None,\n",
              "              max_leaves=None, min_child_weight=None, missing=nan,\n",
              "              monotone_constraints=None, multi_strategy=None, n_estimators=None,\n",
              "              n_jobs=None, num_parallel_tree=None, ...)"
            ]
          },
          "execution_count": 46,
          "metadata": {},
          "output_type": "execute_result"
        }
      ],
      "source": [
        "xgb_gs.fit(X_train_cs, y_train)"
      ]
    },
    {
      "cell_type": "code",
      "execution_count": 47,
      "metadata": {
        "ExecuteTime": {
          "end_time": "2021-01-11T20:55:53.028663Z",
          "start_time": "2021-01-11T20:55:52.747809Z"
        },
        "colab": {
          "base_uri": "https://localhost:8080/"
        },
        "hidden": true,
        "id": "6f0ZtJ3S0uMq",
        "outputId": "c5687dc0-1621-4569-b262-35066f7a6a43"
      },
      "outputs": [
        {
          "name": "stdout",
          "output_type": "stream",
          "text": [
            "0.9998085946638132\n"
          ]
        }
      ],
      "source": [
        "y_pred = xgb_gs.predict(X_train_cs)\n",
        "probs = xgb_gs.predict_proba(X_train_cs)\n",
        "print(roc_auc_score(y_train, probs[:,1]))"
      ]
    },
    {
      "cell_type": "markdown",
      "metadata": {
        "heading_collapsed": true,
        "id": "OxaGTqtZ0uMq"
      },
      "source": [
        "# 9.0 Conclusions"
      ]
    },
    {
      "cell_type": "markdown",
      "metadata": {
        "hidden": true,
        "id": "7A6_zsQU0uMq"
      },
      "source": [
        "## 9.1 Final Model"
      ]
    },
    {
      "cell_type": "code",
      "execution_count": 48,
      "metadata": {
        "ExecuteTime": {
          "end_time": "2021-01-11T21:05:56.929387Z",
          "start_time": "2021-01-11T21:05:24.082949Z"
        },
        "colab": {
          "base_uri": "https://localhost:8080/",
          "height": 248
        },
        "hidden": true,
        "id": "e4l8WGOv0uMv",
        "outputId": "c9e87fd5-118d-47e1-a9e2-5d5e2d3009f7"
      },
      "outputs": [],
      "source": [
        "final_model = XGBClassifier(\n",
        "    booster=best_params['booster'],\n",
        "    eta=best_params['eta'],\n",
        "    scale_pos_weight=best_params['scale_pos_weight']\n",
        ")\n",
        "\n",
        "final_model.fit(X_params_cs, y_train)\n",
        "\n"
      ]
    },
    {
      "cell_type": "code",
      "execution_count": null,
      "metadata": {
        "colab": {
          "base_uri": "https://localhost:8080/"
        },
        "id": "5wdYGMyPBGp5",
        "outputId": "8e2ba6f8-0a2b-474b-cbda-24387b747dca"
      },
      "outputs": [
        {
          "data": {
            "text/plain": [
              "['model_cycle1.joblib']"
            ]
          },
          "execution_count": 40,
          "metadata": {},
          "output_type": "execute_result"
        }
      ],
      "source": [
        "joblib.dump(final_model, 'model_cycle1.joblib')"
      ]
    },
    {
      "cell_type": "code",
      "execution_count": null,
      "metadata": {},
      "outputs": [
        {
          "data": {
            "text/plain": [
              "['onehotencoder_cycle1.joblib']"
            ]
          },
          "execution_count": 42,
          "metadata": {},
          "output_type": "execute_result"
        }
      ],
      "source": [
        "joblib.dump(ohe, 'onehotencoder_cycle1.joblib')"
      ]
    },
    {
      "cell_type": "markdown",
      "metadata": {
        "id": "hcfd4XeywSNO"
      },
      "source": [
        "# 10 Validating Results"
      ]
    },
    {
      "cell_type": "markdown",
      "metadata": {
        "id": "RJ76SFRQ2Ep_"
      },
      "source": [
        "# 10.1 Undersampling\n"
      ]
    },
    {
      "cell_type": "code",
      "execution_count": null,
      "metadata": {
        "colab": {
          "base_uri": "https://localhost:8080/",
          "height": 488
        },
        "id": "7yt8SsEtwF6m",
        "outputId": "b42a945e-3751-4203-b6d1-d6ce2c5936fd"
      },
      "outputs": [
        {
          "ename": "NameError",
          "evalue": "name 'df4' is not defined",
          "output_type": "error",
          "traceback": [
            "\u001b[0;31m---------------------------------------------------------------------------\u001b[0m",
            "\u001b[0;31mNameError\u001b[0m                                 Traceback (most recent call last)",
            "\u001b[1;32m/home/anant/Documents/onlinefraud/online_fraud.ipynb Cell 85\u001b[0m line \u001b[0;36m1\n\u001b[0;32m----> <a href='vscode-notebook-cell:/home/anant/Documents/onlinefraud/online_fraud.ipynb#Y150sZmlsZQ%3D%3D?line=0'>1</a>\u001b[0m df10 \u001b[39m=\u001b[39m df4\u001b[39m.\u001b[39mcopy()\n",
            "\u001b[0;31mNameError\u001b[0m: name 'df4' is not defined"
          ]
        }
      ],
      "source": [
        "df10 = df4.copy()"
      ]
    },
    {
      "cell_type": "code",
      "execution_count": null,
      "metadata": {
        "id": "lZu9MGSNwg2z"
      },
      "outputs": [],
      "source": [
        "\n",
        "\n",
        "Fraudulent_Transaction = df10[df10.is_fraud ==1]\n",
        "Not_Fraudulent_Transaction = df10[df10.is_fraud ==0]"
      ]
    },
    {
      "cell_type": "code",
      "execution_count": null,
      "metadata": {
        "colab": {
          "base_uri": "https://localhost:8080/"
        },
        "id": "qNRB7WbP66Lg",
        "outputId": "26dffb15-ca02-4148-87cb-8612b4719a9c"
      },
      "outputs": [
        {
          "name": "stdout",
          "output_type": "stream",
          "text": [
            "Fraudulent Transaction: 821\n",
            "Not Fraudulent Transaction: 635441\n"
          ]
        }
      ],
      "source": [
        "print('Fraudulent Transaction: {}'.format(len(Fraudulent_Transaction)))\n",
        "print('Not Fraudulent Transaction: {}'.format(len(Not_Fraudulent_Transaction)))\n"
      ]
    },
    {
      "cell_type": "markdown",
      "metadata": {
        "id": "bgjxsbvS2HfE"
      },
      "source": [
        "Building a sample dataset containing similar distribution of Non Fraudulent transactions and Fraudulent transactions. This rectifies the class-imbalance and helps our machine learning model to perform better predictions.\n",
        "\n",
        "Since we want to build a model that detects Fraud, we base our sampling on the number of transactions classed as fraudulent in our original dataset.\n",
        "\n",
        "Fraudulent transactions: 8213"
      ]
    },
    {
      "cell_type": "code",
      "execution_count": null,
      "metadata": {
        "id": "o_SGwD3O7Bg2"
      },
      "outputs": [],
      "source": [
        "Non_Fraudulent_Sample = Not_Fraudulent_Transaction.sample(n=8213)"
      ]
    },
    {
      "cell_type": "code",
      "execution_count": null,
      "metadata": {
        "id": "KfXg6Xec7F6d"
      },
      "outputs": [],
      "source": [
        "df10= pd.concat([Non_Fraudulent_Sample, Fraudulent_Transaction], axis=0)"
      ]
    },
    {
      "cell_type": "code",
      "execution_count": null,
      "metadata": {
        "colab": {
          "base_uri": "https://localhost:8080/",
          "height": 364
        },
        "id": "fY70hGrD7NfZ",
        "outputId": "fffa0d68-f69d-4135-8bf3-594fc402ab61"
      },
      "outputs": [
        {
          "data": {
            "text/html": [
              "\n",
              "  <div id=\"df-e2e7946c-8a8b-4d4a-b060-d337bbc3eaf3\">\n",
              "    <div class=\"colab-df-container\">\n",
              "      <div>\n",
              "<style scoped>\n",
              "    .dataframe tbody tr th:only-of-type {\n",
              "        vertical-align: middle;\n",
              "    }\n",
              "\n",
              "    .dataframe tbody tr th {\n",
              "        vertical-align: top;\n",
              "    }\n",
              "\n",
              "    .dataframe thead th {\n",
              "        text-align: right;\n",
              "    }\n",
              "</style>\n",
              "<table border=\"1\" class=\"dataframe\">\n",
              "  <thead>\n",
              "    <tr style=\"text-align: right;\">\n",
              "      <th></th>\n",
              "      <th>step</th>\n",
              "      <th>amount</th>\n",
              "      <th>oldbalance_org</th>\n",
              "      <th>newbalance_orig</th>\n",
              "      <th>oldbalance_dest</th>\n",
              "      <th>newbalance_dest</th>\n",
              "      <th>is_fraud</th>\n",
              "      <th>is_flagged_fraud</th>\n",
              "      <th>step_days</th>\n",
              "      <th>step_weeks</th>\n",
              "      <th>diff_new_old_balance</th>\n",
              "      <th>diff_new_old_destiny</th>\n",
              "    </tr>\n",
              "  </thead>\n",
              "  <tbody>\n",
              "    <tr>\n",
              "      <th>count</th>\n",
              "      <td>9034.000000</td>\n",
              "      <td>9.034000e+03</td>\n",
              "      <td>9.034000e+03</td>\n",
              "      <td>9.034000e+03</td>\n",
              "      <td>9.034000e+03</td>\n",
              "      <td>9.034000e+03</td>\n",
              "      <td>9034.000000</td>\n",
              "      <td>9034.000000</td>\n",
              "      <td>9034.000000</td>\n",
              "      <td>9034.000000</td>\n",
              "      <td>9.034000e+03</td>\n",
              "      <td>9.034000e+03</td>\n",
              "    </tr>\n",
              "    <tr>\n",
              "      <th>mean</th>\n",
              "      <td>254.158291</td>\n",
              "      <td>2.952740e+05</td>\n",
              "      <td>8.856966e+05</td>\n",
              "      <td>7.781284e+05</td>\n",
              "      <td>1.050647e+06</td>\n",
              "      <td>1.226529e+06</td>\n",
              "      <td>0.090879</td>\n",
              "      <td>0.000221</td>\n",
              "      <td>10.589929</td>\n",
              "      <td>1.512847</td>\n",
              "      <td>-1.075682e+05</td>\n",
              "      <td>1.758823e+05</td>\n",
              "    </tr>\n",
              "    <tr>\n",
              "      <th>std</th>\n",
              "      <td>154.137225</td>\n",
              "      <td>1.029081e+06</td>\n",
              "      <td>2.892204e+06</td>\n",
              "      <td>2.786457e+06</td>\n",
              "      <td>3.330859e+06</td>\n",
              "      <td>3.657424e+06</td>\n",
              "      <td>0.287453</td>\n",
              "      <td>0.014878</td>\n",
              "      <td>6.422384</td>\n",
              "      <td>0.917483</td>\n",
              "      <td>8.409452e+05</td>\n",
              "      <td>9.033622e+05</td>\n",
              "    </tr>\n",
              "    <tr>\n",
              "      <th>min</th>\n",
              "      <td>1.000000</td>\n",
              "      <td>0.000000e+00</td>\n",
              "      <td>0.000000e+00</td>\n",
              "      <td>0.000000e+00</td>\n",
              "      <td>0.000000e+00</td>\n",
              "      <td>0.000000e+00</td>\n",
              "      <td>0.000000</td>\n",
              "      <td>0.000000</td>\n",
              "      <td>0.041667</td>\n",
              "      <td>0.005952</td>\n",
              "      <td>-1.000000e+07</td>\n",
              "      <td>-2.172566e+06</td>\n",
              "    </tr>\n",
              "    <tr>\n",
              "      <th>25%</th>\n",
              "      <td>155.000000</td>\n",
              "      <td>1.554872e+04</td>\n",
              "      <td>0.000000e+00</td>\n",
              "      <td>0.000000e+00</td>\n",
              "      <td>0.000000e+00</td>\n",
              "      <td>0.000000e+00</td>\n",
              "      <td>0.000000</td>\n",
              "      <td>0.000000</td>\n",
              "      <td>6.458333</td>\n",
              "      <td>0.922619</td>\n",
              "      <td>-1.626171e+04</td>\n",
              "      <td>0.000000e+00</td>\n",
              "    </tr>\n",
              "    <tr>\n",
              "      <th>50%</th>\n",
              "      <td>252.000000</td>\n",
              "      <td>9.007549e+04</td>\n",
              "      <td>2.010300e+04</td>\n",
              "      <td>0.000000e+00</td>\n",
              "      <td>7.734059e+04</td>\n",
              "      <td>1.864069e+05</td>\n",
              "      <td>0.000000</td>\n",
              "      <td>0.000000</td>\n",
              "      <td>10.500000</td>\n",
              "      <td>1.500000</td>\n",
              "      <td>-4.695500e+01</td>\n",
              "      <td>0.000000e+00</td>\n",
              "    </tr>\n",
              "    <tr>\n",
              "      <th>75%</th>\n",
              "      <td>351.000000</td>\n",
              "      <td>2.354676e+05</td>\n",
              "      <td>1.798264e+05</td>\n",
              "      <td>1.106282e+05</td>\n",
              "      <td>8.881773e+05</td>\n",
              "      <td>1.122655e+06</td>\n",
              "      <td>0.000000</td>\n",
              "      <td>0.000000</td>\n",
              "      <td>14.625000</td>\n",
              "      <td>2.089286</td>\n",
              "      <td>0.000000e+00</td>\n",
              "      <td>1.551661e+05</td>\n",
              "    </tr>\n",
              "    <tr>\n",
              "      <th>max</th>\n",
              "      <td>742.000000</td>\n",
              "      <td>3.239349e+07</td>\n",
              "      <td>3.767004e+07</td>\n",
              "      <td>3.439305e+07</td>\n",
              "      <td>1.390260e+08</td>\n",
              "      <td>1.426189e+08</td>\n",
              "      <td>1.000000</td>\n",
              "      <td>1.000000</td>\n",
              "      <td>30.916667</td>\n",
              "      <td>4.416667</td>\n",
              "      <td>7.847283e+05</td>\n",
              "      <td>3.239349e+07</td>\n",
              "    </tr>\n",
              "  </tbody>\n",
              "</table>\n",
              "</div>\n",
              "      <button class=\"colab-df-convert\" onclick=\"convertToInteractive('df-e2e7946c-8a8b-4d4a-b060-d337bbc3eaf3')\"\n",
              "              title=\"Convert this dataframe to an interactive table.\"\n",
              "              style=\"display:none;\">\n",
              "        \n",
              "  <svg xmlns=\"http://www.w3.org/2000/svg\" height=\"24px\"viewBox=\"0 0 24 24\"\n",
              "       width=\"24px\">\n",
              "    <path d=\"M0 0h24v24H0V0z\" fill=\"none\"/>\n",
              "    <path d=\"M18.56 5.44l.94 2.06.94-2.06 2.06-.94-2.06-.94-.94-2.06-.94 2.06-2.06.94zm-11 1L8.5 8.5l.94-2.06 2.06-.94-2.06-.94L8.5 2.5l-.94 2.06-2.06.94zm10 10l.94 2.06.94-2.06 2.06-.94-2.06-.94-.94-2.06-.94 2.06-2.06.94z\"/><path d=\"M17.41 7.96l-1.37-1.37c-.4-.4-.92-.59-1.43-.59-.52 0-1.04.2-1.43.59L10.3 9.45l-7.72 7.72c-.78.78-.78 2.05 0 2.83L4 21.41c.39.39.9.59 1.41.59.51 0 1.02-.2 1.41-.59l7.78-7.78 2.81-2.81c.8-.78.8-2.07 0-2.86zM5.41 20L4 18.59l7.72-7.72 1.47 1.35L5.41 20z\"/>\n",
              "  </svg>\n",
              "      </button>\n",
              "      \n",
              "  <style>\n",
              "    .colab-df-container {\n",
              "      display:flex;\n",
              "      flex-wrap:wrap;\n",
              "      gap: 12px;\n",
              "    }\n",
              "\n",
              "    .colab-df-convert {\n",
              "      background-color: #E8F0FE;\n",
              "      border: none;\n",
              "      border-radius: 50%;\n",
              "      cursor: pointer;\n",
              "      display: none;\n",
              "      fill: #1967D2;\n",
              "      height: 32px;\n",
              "      padding: 0 0 0 0;\n",
              "      width: 32px;\n",
              "    }\n",
              "\n",
              "    .colab-df-convert:hover {\n",
              "      background-color: #E2EBFA;\n",
              "      box-shadow: 0px 1px 2px rgba(60, 64, 67, 0.3), 0px 1px 3px 1px rgba(60, 64, 67, 0.15);\n",
              "      fill: #174EA6;\n",
              "    }\n",
              "\n",
              "    [theme=dark] .colab-df-convert {\n",
              "      background-color: #3B4455;\n",
              "      fill: #D2E3FC;\n",
              "    }\n",
              "\n",
              "    [theme=dark] .colab-df-convert:hover {\n",
              "      background-color: #434B5C;\n",
              "      box-shadow: 0px 1px 3px 1px rgba(0, 0, 0, 0.15);\n",
              "      filter: drop-shadow(0px 1px 2px rgba(0, 0, 0, 0.3));\n",
              "      fill: #FFFFFF;\n",
              "    }\n",
              "  </style>\n",
              "\n",
              "      <script>\n",
              "        const buttonEl =\n",
              "          document.querySelector('#df-e2e7946c-8a8b-4d4a-b060-d337bbc3eaf3 button.colab-df-convert');\n",
              "        buttonEl.style.display =\n",
              "          google.colab.kernel.accessAllowed ? 'block' : 'none';\n",
              "\n",
              "        async function convertToInteractive(key) {\n",
              "          const element = document.querySelector('#df-e2e7946c-8a8b-4d4a-b060-d337bbc3eaf3');\n",
              "          const dataTable =\n",
              "            await google.colab.kernel.invokeFunction('convertToInteractive',\n",
              "                                                     [key], {});\n",
              "          if (!dataTable) return;\n",
              "\n",
              "          const docLinkHtml = 'Like what you see? Visit the ' +\n",
              "            '<a target=\"_blank\" href=https://colab.research.google.com/notebooks/data_table.ipynb>data table notebook</a>'\n",
              "            + ' to learn more about interactive tables.';\n",
              "          element.innerHTML = '';\n",
              "          dataTable['output_type'] = 'display_data';\n",
              "          await google.colab.output.renderOutput(dataTable, element);\n",
              "          const docLink = document.createElement('div');\n",
              "          docLink.innerHTML = docLinkHtml;\n",
              "          element.appendChild(docLink);\n",
              "        }\n",
              "      </script>\n",
              "    </div>\n",
              "  </div>\n",
              "  "
            ],
            "text/plain": [
              "              step        amount  oldbalance_org  newbalance_orig  \\\n",
              "count  9034.000000  9.034000e+03    9.034000e+03     9.034000e+03   \n",
              "mean    254.158291  2.952740e+05    8.856966e+05     7.781284e+05   \n",
              "std     154.137225  1.029081e+06    2.892204e+06     2.786457e+06   \n",
              "min       1.000000  0.000000e+00    0.000000e+00     0.000000e+00   \n",
              "25%     155.000000  1.554872e+04    0.000000e+00     0.000000e+00   \n",
              "50%     252.000000  9.007549e+04    2.010300e+04     0.000000e+00   \n",
              "75%     351.000000  2.354676e+05    1.798264e+05     1.106282e+05   \n",
              "max     742.000000  3.239349e+07    3.767004e+07     3.439305e+07   \n",
              "\n",
              "       oldbalance_dest  newbalance_dest     is_fraud  is_flagged_fraud  \\\n",
              "count     9.034000e+03     9.034000e+03  9034.000000       9034.000000   \n",
              "mean      1.050647e+06     1.226529e+06     0.090879          0.000221   \n",
              "std       3.330859e+06     3.657424e+06     0.287453          0.014878   \n",
              "min       0.000000e+00     0.000000e+00     0.000000          0.000000   \n",
              "25%       0.000000e+00     0.000000e+00     0.000000          0.000000   \n",
              "50%       7.734059e+04     1.864069e+05     0.000000          0.000000   \n",
              "75%       8.881773e+05     1.122655e+06     0.000000          0.000000   \n",
              "max       1.390260e+08     1.426189e+08     1.000000          1.000000   \n",
              "\n",
              "         step_days   step_weeks  diff_new_old_balance  diff_new_old_destiny  \n",
              "count  9034.000000  9034.000000          9.034000e+03          9.034000e+03  \n",
              "mean     10.589929     1.512847         -1.075682e+05          1.758823e+05  \n",
              "std       6.422384     0.917483          8.409452e+05          9.033622e+05  \n",
              "min       0.041667     0.005952         -1.000000e+07         -2.172566e+06  \n",
              "25%       6.458333     0.922619         -1.626171e+04          0.000000e+00  \n",
              "50%      10.500000     1.500000         -4.695500e+01          0.000000e+00  \n",
              "75%      14.625000     2.089286          0.000000e+00          1.551661e+05  \n",
              "max      30.916667     4.416667          7.847283e+05          3.239349e+07  "
            ]
          },
          "execution_count": 501,
          "metadata": {},
          "output_type": "execute_result"
        }
      ],
      "source": [
        "df10.describe()"
      ]
    },
    {
      "cell_type": "markdown",
      "metadata": {
        "id": "j5lul5wv_zU6"
      },
      "source": [
        "### 10.1.1 Data Preprocessing"
      ]
    },
    {
      "cell_type": "code",
      "execution_count": null,
      "metadata": {
        "id": "EhRFa4W37dTR"
      },
      "outputs": [],
      "source": [
        "y = df10['is_fraud']\n",
        "X = df10.drop(columns=['is_fraud', 'is_flagged_fraud', 'name_orig', 'name_dest',\n",
        "                      'step_weeks', 'step_days'], axis=1)"
      ]
    },
    {
      "cell_type": "markdown",
      "metadata": {
        "id": "5vWi4CXP_6E_"
      },
      "source": [
        "Train Test Split, one hot encoder and Rescaling"
      ]
    },
    {
      "cell_type": "code",
      "execution_count": null,
      "metadata": {
        "id": "eBi8dGDe7vRB"
      },
      "outputs": [],
      "source": [
        "# spliting into train and test\n",
        "X_train, X_test, y_train, y_test = train_test_split(X, y, test_size=.2, stratify=y)\n",
        "\n",
        "ohe = OneHotEncoder(cols=['type'], use_cat_names=True)\n",
        "\n",
        "X_train = ohe.fit_transform(X_train)\n",
        "X_test = ohe.transform(X_test)\n",
        "\n",
        "num_columns = ['amount', 'oldbalance_org', 'newbalance_orig', 'oldbalance_dest', 'newbalance_dest',\n",
        "               'diff_new_old_balance', 'diff_new_old_destiny']\n",
        "mm = MinMaxScaler()\n",
        "X_params = X_train.copy()\n",
        "\n",
        "X_train[num_columns] = mm.fit_transform(X_train[num_columns])\n",
        "X_test[num_columns] = mm.transform(X_test[num_columns])\n",
        "\n",
        "X_params[num_columns] = mm.fit_transform(X_train[num_columns])\n",
        "X_test[num_columns] = mm.transform(X_test[num_columns])"
      ]
    },
    {
      "cell_type": "code",
      "execution_count": null,
      "metadata": {
        "id": "-wa9-Q3u7wBW"
      },
      "outputs": [],
      "source": [
        "final_columns_selected = ['step', 'oldbalance_org',\n",
        "                          'newbalance_orig', 'newbalance_dest',\n",
        "                          'diff_new_old_balance', 'diff_new_old_destiny',\n",
        "                          'type_TRANSFER']"
      ]
    },
    {
      "cell_type": "code",
      "execution_count": null,
      "metadata": {
        "id": "orq31kLn8Lq9"
      },
      "outputs": [],
      "source": [
        "X_train_cs = X_train[final_columns_selected]\n",
        "\n",
        "X_test_cs = X_test[final_columns_selected]\n",
        "\n",
        "X_params_cs = X_params[final_columns_selected]"
      ]
    },
    {
      "cell_type": "markdown",
      "metadata": {
        "id": "Kgc4Z2FZAHCf"
      },
      "source": [
        "## 10.1.2 Loading the model"
      ]
    },
    {
      "cell_type": "code",
      "execution_count": null,
      "metadata": {
        "id": "etkTxFRc8MOp"
      },
      "outputs": [],
      "source": [
        "import joblib\n",
        "model = joblib.load('model_cycle1.joblib')"
      ]
    },
    {
      "cell_type": "code",
      "execution_count": null,
      "metadata": {},
      "outputs": [
        {
          "name": "stdout",
          "output_type": "stream",
          "text": [
            "[[0.3, 0.1, 0.2, 0.3, 0.1, 0.0, 0]]\n"
          ]
        }
      ],
      "source": [
        "def json_to_values_array(json_data):\n",
        "    values_array = [list(row.values()) for row in json_data]\n",
        "    return values_array\n",
        "\n",
        "# Example usage:\n",
        "json_data = [\n",
        "    {\n",
        "        \"step\": 0.3,\n",
        "        \"oldbalance_org\": 0.1,\n",
        "        \"newbalance_orig\": 0.2,\n",
        "        \"newbalance_dest\": 0.3,\n",
        "        \"diff_new_old_balance\": 0.1,\n",
        "        \"diff_new_old_destiny\": 0.0,\n",
        "        \"type_TRANSFER\": 0\n",
        "    }\n",
        "]\n",
        "\n",
        "result_array = json_to_values_array(json_data)\n",
        "\n",
        "\n"
      ]
    },
    {
      "cell_type": "code",
      "execution_count": null,
      "metadata": {},
      "outputs": [
        {
          "data": {
            "text/plain": [
              "array([1])"
            ]
          },
          "execution_count": 33,
          "metadata": {},
          "output_type": "execute_result"
        }
      ],
      "source": [
        "res = model.predict([[0.3,0.1,0.0,0.0,0.0,0.0,0.0]])\n",
        "res"
      ]
    },
    {
      "cell_type": "code",
      "execution_count": null,
      "metadata": {
        "id": "vx3dYETE9LKt"
      },
      "outputs": [],
      "source": [
        "xgb.fit(X_train_cs, y_train)\n",
        "\n",
        "y_pred = xgb.predict(X_test_cs)\n",
        "y_probs = xgb.predict_proba(X_test_cs)"
      ]
    },
    {
      "cell_type": "markdown",
      "metadata": {
        "id": "W6SDCwSfALxb"
      },
      "source": [
        "Results"
      ]
    },
    {
      "cell_type": "code",
      "execution_count": null,
      "metadata": {
        "colab": {
          "base_uri": "https://localhost:8080/",
          "height": 81
        },
        "id": "gz7QpXj79L5L",
        "outputId": "69f34d19-1ba6-45e1-8fb5-49306e77d946"
      },
      "outputs": [
        {
          "data": {
            "text/html": [
              "\n",
              "  <div id=\"df-475e3aeb-f6e4-4e92-88bf-d5ffd89a1f39\">\n",
              "    <div class=\"colab-df-container\">\n",
              "      <div>\n",
              "<style scoped>\n",
              "    .dataframe tbody tr th:only-of-type {\n",
              "        vertical-align: middle;\n",
              "    }\n",
              "\n",
              "    .dataframe tbody tr th {\n",
              "        vertical-align: top;\n",
              "    }\n",
              "\n",
              "    .dataframe thead th {\n",
              "        text-align: right;\n",
              "    }\n",
              "</style>\n",
              "<table border=\"1\" class=\"dataframe\">\n",
              "  <thead>\n",
              "    <tr style=\"text-align: right;\">\n",
              "      <th></th>\n",
              "      <th>Balanced Accuracy</th>\n",
              "      <th>Precision</th>\n",
              "      <th>Recall</th>\n",
              "      <th>F1</th>\n",
              "      <th>auc</th>\n",
              "    </tr>\n",
              "  </thead>\n",
              "  <tbody>\n",
              "    <tr>\n",
              "      <th>XGB</th>\n",
              "      <td>0.953051</td>\n",
              "      <td>0.973856</td>\n",
              "      <td>0.908537</td>\n",
              "      <td>0.940063</td>\n",
              "      <td>0.991045</td>\n",
              "    </tr>\n",
              "  </tbody>\n",
              "</table>\n",
              "</div>\n",
              "      <button class=\"colab-df-convert\" onclick=\"convertToInteractive('df-475e3aeb-f6e4-4e92-88bf-d5ffd89a1f39')\"\n",
              "              title=\"Convert this dataframe to an interactive table.\"\n",
              "              style=\"display:none;\">\n",
              "        \n",
              "  <svg xmlns=\"http://www.w3.org/2000/svg\" height=\"24px\"viewBox=\"0 0 24 24\"\n",
              "       width=\"24px\">\n",
              "    <path d=\"M0 0h24v24H0V0z\" fill=\"none\"/>\n",
              "    <path d=\"M18.56 5.44l.94 2.06.94-2.06 2.06-.94-2.06-.94-.94-2.06-.94 2.06-2.06.94zm-11 1L8.5 8.5l.94-2.06 2.06-.94-2.06-.94L8.5 2.5l-.94 2.06-2.06.94zm10 10l.94 2.06.94-2.06 2.06-.94-2.06-.94-.94-2.06-.94 2.06-2.06.94z\"/><path d=\"M17.41 7.96l-1.37-1.37c-.4-.4-.92-.59-1.43-.59-.52 0-1.04.2-1.43.59L10.3 9.45l-7.72 7.72c-.78.78-.78 2.05 0 2.83L4 21.41c.39.39.9.59 1.41.59.51 0 1.02-.2 1.41-.59l7.78-7.78 2.81-2.81c.8-.78.8-2.07 0-2.86zM5.41 20L4 18.59l7.72-7.72 1.47 1.35L5.41 20z\"/>\n",
              "  </svg>\n",
              "      </button>\n",
              "      \n",
              "  <style>\n",
              "    .colab-df-container {\n",
              "      display:flex;\n",
              "      flex-wrap:wrap;\n",
              "      gap: 12px;\n",
              "    }\n",
              "\n",
              "    .colab-df-convert {\n",
              "      background-color: #E8F0FE;\n",
              "      border: none;\n",
              "      border-radius: 50%;\n",
              "      cursor: pointer;\n",
              "      display: none;\n",
              "      fill: #1967D2;\n",
              "      height: 32px;\n",
              "      padding: 0 0 0 0;\n",
              "      width: 32px;\n",
              "    }\n",
              "\n",
              "    .colab-df-convert:hover {\n",
              "      background-color: #E2EBFA;\n",
              "      box-shadow: 0px 1px 2px rgba(60, 64, 67, 0.3), 0px 1px 3px 1px rgba(60, 64, 67, 0.15);\n",
              "      fill: #174EA6;\n",
              "    }\n",
              "\n",
              "    [theme=dark] .colab-df-convert {\n",
              "      background-color: #3B4455;\n",
              "      fill: #D2E3FC;\n",
              "    }\n",
              "\n",
              "    [theme=dark] .colab-df-convert:hover {\n",
              "      background-color: #434B5C;\n",
              "      box-shadow: 0px 1px 3px 1px rgba(0, 0, 0, 0.15);\n",
              "      filter: drop-shadow(0px 1px 2px rgba(0, 0, 0, 0.3));\n",
              "      fill: #FFFFFF;\n",
              "    }\n",
              "  </style>\n",
              "\n",
              "      <script>\n",
              "        const buttonEl =\n",
              "          document.querySelector('#df-475e3aeb-f6e4-4e92-88bf-d5ffd89a1f39 button.colab-df-convert');\n",
              "        buttonEl.style.display =\n",
              "          google.colab.kernel.accessAllowed ? 'block' : 'none';\n",
              "\n",
              "        async function convertToInteractive(key) {\n",
              "          const element = document.querySelector('#df-475e3aeb-f6e4-4e92-88bf-d5ffd89a1f39');\n",
              "          const dataTable =\n",
              "            await google.colab.kernel.invokeFunction('convertToInteractive',\n",
              "                                                     [key], {});\n",
              "          if (!dataTable) return;\n",
              "\n",
              "          const docLinkHtml = 'Like what you see? Visit the ' +\n",
              "            '<a target=\"_blank\" href=https://colab.research.google.com/notebooks/data_table.ipynb>data table notebook</a>'\n",
              "            + ' to learn more about interactive tables.';\n",
              "          element.innerHTML = '';\n",
              "          dataTable['output_type'] = 'display_data';\n",
              "          await google.colab.output.renderOutput(dataTable, element);\n",
              "          const docLink = document.createElement('div');\n",
              "          docLink.innerHTML = docLinkHtml;\n",
              "          element.appendChild(docLink);\n",
              "        }\n",
              "      </script>\n",
              "    </div>\n",
              "  </div>\n",
              "  "
            ],
            "text/plain": [
              "     Balanced Accuracy  Precision    Recall        F1       auc\n",
              "XGB           0.953051   0.973856  0.908537  0.940063  0.991045"
            ]
          },
          "execution_count": 508,
          "metadata": {},
          "output_type": "execute_result"
        }
      ],
      "source": [
        "xgb_results = ml_scores('XGB', y_test, y_pred,y_probs)\n",
        "xgb_results"
      ]
    }
  ],
  "metadata": {
    "colab": {
      "include_colab_link": true,
      "provenance": []
    },
    "kernelspec": {
      "display_name": "Python 3",
      "language": "python",
      "name": "python3"
    },
    "language_info": {
      "codemirror_mode": {
        "name": "ipython",
        "version": 3
      },
      "file_extension": ".py",
      "mimetype": "text/x-python",
      "name": "python",
      "nbconvert_exporter": "python",
      "pygments_lexer": "ipython3",
      "version": "3.11.6"
    }
  },
  "nbformat": 4,
  "nbformat_minor": 0
}
